{
 "cells": [
  {
   "cell_type": "markdown",
   "id": "75e97389-b44e-4136-aee5-907940f77db6",
   "metadata": {},
   "source": [
    "                                            OCD PATIENT DATA ANALYSIS"
   ]
  },
  {
   "cell_type": "raw",
   "id": "534546bb-2249-497f-9961-5dab24a14c9e",
   "metadata": {},
   "source": [
    "PROJECT PREVIEW:\n",
    "    This data analysis project is focused on uncovering insights in the trends associated with patients diagnosed with Obsession-Compulsion Disorder (OCD) through a detailed examination of a comprehensive dataset comprising 1500 individuals.\n",
    "    The primary objective of this project is to analyse demographic and clinical characteristics that may influence the manifestaion and treatment of OCD."
   ]
  },
  {
   "cell_type": "raw",
   "id": "bdda61b7-ce5e-4662-9bed-9695f3cbd72e",
   "metadata": {},
   "source": [
    "KEY AREA OF EXPLORATION WITHIN THIS DATASET INCLUDE:\n",
    "    - Demographic Characteristics:\n",
    "        o Understanding the age, gender and geographical distribution of individuals diagnosed with OCD to identify potential patterns and differences across populations.\n",
    "    - Duration of Symptoms:\n",
    "        o Analysing how long patients have been experiencing OCD Symptoms. This information can provide valuable context for treatment approaches and understanding the chronicity of the disorder.\n",
    "    - Y-BOCS Scores:\n",
    "        o Utilizing the Yale-Brown Obsessive Compulsive Scale (Y-BOCS) score to gauge the severity of OCD symptoms among the population, which can inform treatment efficacy and degree of impact on patients daily lives.\n",
    "    - Co-occuring Mental Health Conditions:\n",
    "        o Investigating the presence of other mental health disorders that often accompany OCD, such as anxiety disorders and depression, understanding these relationships can help in designing more comrehensive treatment plans.\n",
    "    "
   ]
  },
  {
   "cell_type": "raw",
   "id": "b395f0fd-5183-4d22-a55c-9eeb58b70398",
   "metadata": {},
   "source": []
  },
  {
   "cell_type": "raw",
   "id": "f4d35cf1-d3da-46c1-bc15-7f60ae8c1b66",
   "metadata": {},
   "source": [
    "                                            IMPORTING LIBRARIES"
   ]
  },
  {
   "cell_type": "code",
   "execution_count": 1,
   "id": "a750dc6a-dfe6-4876-9b54-a6f07343464e",
   "metadata": {},
   "outputs": [],
   "source": [
    "import pandas as pd  # For Data Manipulation and analysis"
   ]
  },
  {
   "cell_type": "code",
   "execution_count": 2,
   "id": "4072eb98-644c-499b-9b59-d26bba591598",
   "metadata": {},
   "outputs": [],
   "source": [
    "import numpy as np # Fundamental package for Numerical computing"
   ]
  },
  {
   "cell_type": "code",
   "execution_count": 3,
   "id": "02af94c0-6323-4ced-b7e6-368a1ca8f429",
   "metadata": {},
   "outputs": [],
   "source": [
    "import matplotlib.pyplot as plt # For Data Visualisation "
   ]
  },
  {
   "cell_type": "code",
   "execution_count": 4,
   "id": "373b56c1-1769-4312-9100-5d0f4713f39b",
   "metadata": {},
   "outputs": [],
   "source": [
    "import seaborn as sns #Provide high-level interface for drawing statiscal graphics"
   ]
  },
  {
   "cell_type": "code",
   "execution_count": 5,
   "id": "49503f52-e0ed-403a-bd67-828248b5e5ec",
   "metadata": {},
   "outputs": [],
   "source": [
    "from sklearn.preprocessing import LabelEncoder # For predictive data analysisi"
   ]
  },
  {
   "cell_type": "code",
   "execution_count": 6,
   "id": "a4be4f13-180b-4a95-bdad-7f23459096c7",
   "metadata": {},
   "outputs": [],
   "source": [
    "from scipy import stats # For Scientific and Technical computing"
   ]
  },
  {
   "cell_type": "code",
   "execution_count": 7,
   "id": "17c1d99b-8ba4-4eaf-86fd-e6b4092fa588",
   "metadata": {},
   "outputs": [],
   "source": [
    "from scipy.stats import pearsonr"
   ]
  },
  {
   "cell_type": "code",
   "execution_count": 8,
   "id": "2ade69d4-c12e-4360-9b91-1ac533dfd69f",
   "metadata": {},
   "outputs": [],
   "source": [
    "import statsmodels.api as sm                          # For statistical analysis, hypothesis testing and modeling. \n",
    "from statsmodels.formula.api import ols               # ols fuunction is used to fit Ordeinary Least Squares (OLS) regression models.\n",
    "from statsmodels.stats.multicomp import pairwise_tukeyhsd # It compares the means of multiple groups and provide confidence intervals for the differece in mean, along with significance level"
   ]
  },
  {
   "cell_type": "raw",
   "id": "9011b317-5b27-4366-a48d-7b4e98fe10af",
   "metadata": {},
   "source": [
    "                                                 READ DATASET FILE"
   ]
  },
  {
   "cell_type": "code",
   "execution_count": 9,
   "id": "f9b85b9f-9dcd-4918-b58c-7d31163bfafb",
   "metadata": {},
   "outputs": [],
   "source": [
    "#Reading the data file \n",
    "df_patient=pd.read_csv(\"OCD Patient Dataset.csv\")"
   ]
  },
  {
   "cell_type": "code",
   "execution_count": 10,
   "id": "3f22f5f6-5f18-405e-863d-c8a42b8b20e3",
   "metadata": {},
   "outputs": [
    {
     "data": {
      "text/html": [
       "<div>\n",
       "<style scoped>\n",
       "    .dataframe tbody tr th:only-of-type {\n",
       "        vertical-align: middle;\n",
       "    }\n",
       "\n",
       "    .dataframe tbody tr th {\n",
       "        vertical-align: top;\n",
       "    }\n",
       "\n",
       "    .dataframe thead th {\n",
       "        text-align: right;\n",
       "    }\n",
       "</style>\n",
       "<table border=\"1\" class=\"dataframe\">\n",
       "  <thead>\n",
       "    <tr style=\"text-align: right;\">\n",
       "      <th></th>\n",
       "      <th>Patient ID</th>\n",
       "      <th>Age</th>\n",
       "      <th>Gender</th>\n",
       "      <th>Ethnicity</th>\n",
       "      <th>Marital Status</th>\n",
       "      <th>Education Level</th>\n",
       "      <th>OCD Diagnosis Date</th>\n",
       "      <th>Duration of Symptoms (months)</th>\n",
       "      <th>Previous Diagnoses</th>\n",
       "      <th>Family History of OCD</th>\n",
       "      <th>Obsession Type</th>\n",
       "      <th>Compulsion Type</th>\n",
       "      <th>Y-BOCS Score (Obsessions)</th>\n",
       "      <th>Y-BOCS Score (Compulsions)</th>\n",
       "      <th>Depression Diagnosis</th>\n",
       "      <th>Anxiety Diagnosis</th>\n",
       "      <th>Medications</th>\n",
       "    </tr>\n",
       "  </thead>\n",
       "  <tbody>\n",
       "    <tr>\n",
       "      <th>0</th>\n",
       "      <td>1018</td>\n",
       "      <td>32</td>\n",
       "      <td>Female</td>\n",
       "      <td>African</td>\n",
       "      <td>Single</td>\n",
       "      <td>Some College</td>\n",
       "      <td>2016-07-15</td>\n",
       "      <td>203</td>\n",
       "      <td>MDD</td>\n",
       "      <td>No</td>\n",
       "      <td>Harm-related</td>\n",
       "      <td>Checking</td>\n",
       "      <td>17</td>\n",
       "      <td>10</td>\n",
       "      <td>Yes</td>\n",
       "      <td>Yes</td>\n",
       "      <td>SNRI</td>\n",
       "    </tr>\n",
       "    <tr>\n",
       "      <th>1</th>\n",
       "      <td>2406</td>\n",
       "      <td>69</td>\n",
       "      <td>Male</td>\n",
       "      <td>African</td>\n",
       "      <td>Divorced</td>\n",
       "      <td>Some College</td>\n",
       "      <td>2017-04-28</td>\n",
       "      <td>180</td>\n",
       "      <td>NaN</td>\n",
       "      <td>Yes</td>\n",
       "      <td>Harm-related</td>\n",
       "      <td>Washing</td>\n",
       "      <td>21</td>\n",
       "      <td>25</td>\n",
       "      <td>Yes</td>\n",
       "      <td>Yes</td>\n",
       "      <td>SSRI</td>\n",
       "    </tr>\n",
       "    <tr>\n",
       "      <th>2</th>\n",
       "      <td>1188</td>\n",
       "      <td>57</td>\n",
       "      <td>Male</td>\n",
       "      <td>Hispanic</td>\n",
       "      <td>Divorced</td>\n",
       "      <td>College Degree</td>\n",
       "      <td>2018-02-02</td>\n",
       "      <td>173</td>\n",
       "      <td>MDD</td>\n",
       "      <td>No</td>\n",
       "      <td>Contamination</td>\n",
       "      <td>Checking</td>\n",
       "      <td>3</td>\n",
       "      <td>4</td>\n",
       "      <td>No</td>\n",
       "      <td>No</td>\n",
       "      <td>Benzodiazepine</td>\n",
       "    </tr>\n",
       "    <tr>\n",
       "      <th>3</th>\n",
       "      <td>6200</td>\n",
       "      <td>27</td>\n",
       "      <td>Female</td>\n",
       "      <td>Hispanic</td>\n",
       "      <td>Married</td>\n",
       "      <td>College Degree</td>\n",
       "      <td>2014-08-25</td>\n",
       "      <td>126</td>\n",
       "      <td>PTSD</td>\n",
       "      <td>Yes</td>\n",
       "      <td>Symmetry</td>\n",
       "      <td>Washing</td>\n",
       "      <td>14</td>\n",
       "      <td>28</td>\n",
       "      <td>Yes</td>\n",
       "      <td>Yes</td>\n",
       "      <td>SSRI</td>\n",
       "    </tr>\n",
       "    <tr>\n",
       "      <th>4</th>\n",
       "      <td>5824</td>\n",
       "      <td>56</td>\n",
       "      <td>Female</td>\n",
       "      <td>Hispanic</td>\n",
       "      <td>Married</td>\n",
       "      <td>High School</td>\n",
       "      <td>2022-02-20</td>\n",
       "      <td>168</td>\n",
       "      <td>PTSD</td>\n",
       "      <td>Yes</td>\n",
       "      <td>Hoarding</td>\n",
       "      <td>Ordering</td>\n",
       "      <td>39</td>\n",
       "      <td>18</td>\n",
       "      <td>No</td>\n",
       "      <td>No</td>\n",
       "      <td>NaN</td>\n",
       "    </tr>\n",
       "  </tbody>\n",
       "</table>\n",
       "</div>"
      ],
      "text/plain": [
       "   Patient ID  Age  Gender Ethnicity Marital Status Education Level  \\\n",
       "0        1018   32  Female   African         Single    Some College   \n",
       "1        2406   69    Male   African       Divorced    Some College   \n",
       "2        1188   57    Male  Hispanic       Divorced  College Degree   \n",
       "3        6200   27  Female  Hispanic        Married  College Degree   \n",
       "4        5824   56  Female  Hispanic        Married     High School   \n",
       "\n",
       "  OCD Diagnosis Date  Duration of Symptoms (months) Previous Diagnoses  \\\n",
       "0         2016-07-15                            203                MDD   \n",
       "1         2017-04-28                            180                NaN   \n",
       "2         2018-02-02                            173                MDD   \n",
       "3         2014-08-25                            126               PTSD   \n",
       "4         2022-02-20                            168               PTSD   \n",
       "\n",
       "  Family History of OCD Obsession Type Compulsion Type  \\\n",
       "0                    No   Harm-related        Checking   \n",
       "1                   Yes   Harm-related         Washing   \n",
       "2                    No  Contamination        Checking   \n",
       "3                   Yes       Symmetry         Washing   \n",
       "4                   Yes       Hoarding        Ordering   \n",
       "\n",
       "   Y-BOCS Score (Obsessions)  Y-BOCS Score (Compulsions) Depression Diagnosis  \\\n",
       "0                         17                          10                  Yes   \n",
       "1                         21                          25                  Yes   \n",
       "2                          3                           4                   No   \n",
       "3                         14                          28                  Yes   \n",
       "4                         39                          18                   No   \n",
       "\n",
       "  Anxiety Diagnosis     Medications  \n",
       "0               Yes            SNRI  \n",
       "1               Yes            SSRI  \n",
       "2                No  Benzodiazepine  \n",
       "3               Yes            SSRI  \n",
       "4                No             NaN  "
      ]
     },
     "execution_count": 10,
     "metadata": {},
     "output_type": "execute_result"
    }
   ],
   "source": [
    "#first few rows of dataset\n",
    "df_patient.head()"
   ]
  },
  {
   "cell_type": "code",
   "execution_count": null,
   "id": "31acd365-48c2-4b99-8b2d-84d226fdaf62",
   "metadata": {},
   "outputs": [],
   "source": []
  },
  {
   "cell_type": "raw",
   "id": "73adb624-2df7-46f8-aa7e-a6273b2c217c",
   "metadata": {},
   "source": [
    "                                                DATA CLEANING AND MANIPULATION"
   ]
  },
  {
   "cell_type": "code",
   "execution_count": 11,
   "id": "75f5d0fe-9a28-4224-bbca-75559a6dc4a3",
   "metadata": {
    "scrolled": true
   },
   "outputs": [
    {
     "name": "stdout",
     "output_type": "stream",
     "text": [
      "<class 'pandas.core.frame.DataFrame'>\n",
      "RangeIndex: 1500 entries, 0 to 1499\n",
      "Data columns (total 17 columns):\n",
      " #   Column                         Non-Null Count  Dtype \n",
      "---  ------                         --------------  ----- \n",
      " 0   Patient ID                     1500 non-null   int64 \n",
      " 1   Age                            1500 non-null   int64 \n",
      " 2   Gender                         1500 non-null   object\n",
      " 3   Ethnicity                      1500 non-null   object\n",
      " 4   Marital Status                 1500 non-null   object\n",
      " 5   Education Level                1500 non-null   object\n",
      " 6   OCD Diagnosis Date             1500 non-null   object\n",
      " 7   Duration of Symptoms (months)  1500 non-null   int64 \n",
      " 8   Previous Diagnoses             1252 non-null   object\n",
      " 9   Family History of OCD          1500 non-null   object\n",
      " 10  Obsession Type                 1500 non-null   object\n",
      " 11  Compulsion Type                1500 non-null   object\n",
      " 12  Y-BOCS Score (Obsessions)      1500 non-null   int64 \n",
      " 13  Y-BOCS Score (Compulsions)     1500 non-null   int64 \n",
      " 14  Depression Diagnosis           1500 non-null   object\n",
      " 15  Anxiety Diagnosis              1500 non-null   object\n",
      " 16  Medications                    1114 non-null   object\n",
      "dtypes: int64(5), object(12)\n",
      "memory usage: 199.3+ KB\n"
     ]
    }
   ],
   "source": [
    "#Summery of the dataset\n",
    "df_patient.info()"
   ]
  },
  {
   "cell_type": "code",
   "execution_count": 12,
   "id": "0c678822-7f44-4eb8-9099-50778295cf69",
   "metadata": {},
   "outputs": [],
   "source": [
    "#Date variable in Object format converting that to 'DateTime'\n",
    "df_patient['OCD Diagnosis Date']=pd.to_datetime(df_patient['OCD Diagnosis Date'])"
   ]
  },
  {
   "cell_type": "code",
   "execution_count": 13,
   "id": "43d18352-99e9-47c2-b649-09874c971096",
   "metadata": {},
   "outputs": [
    {
     "data": {
      "text/plain": [
       "Patient ID                         0\n",
       "Age                                0\n",
       "Gender                             0\n",
       "Ethnicity                          0\n",
       "Marital Status                     0\n",
       "Education Level                    0\n",
       "OCD Diagnosis Date                 0\n",
       "Duration of Symptoms (months)      0\n",
       "Previous Diagnoses               248\n",
       "Family History of OCD              0\n",
       "Obsession Type                     0\n",
       "Compulsion Type                    0\n",
       "Y-BOCS Score (Obsessions)          0\n",
       "Y-BOCS Score (Compulsions)         0\n",
       "Depression Diagnosis               0\n",
       "Anxiety Diagnosis                  0\n",
       "Medications                      386\n",
       "dtype: int64"
      ]
     },
     "execution_count": 13,
     "metadata": {},
     "output_type": "execute_result"
    }
   ],
   "source": [
    "#Finding total missing values\n",
    "df_patient.isnull().sum()"
   ]
  },
  {
   "cell_type": "code",
   "execution_count": 14,
   "id": "31f28aa1-d37b-4870-afec-de79c873e3de",
   "metadata": {
    "scrolled": true
   },
   "outputs": [
    {
     "data": {
      "text/html": [
       "<div>\n",
       "<style scoped>\n",
       "    .dataframe tbody tr th:only-of-type {\n",
       "        vertical-align: middle;\n",
       "    }\n",
       "\n",
       "    .dataframe tbody tr th {\n",
       "        vertical-align: top;\n",
       "    }\n",
       "\n",
       "    .dataframe thead th {\n",
       "        text-align: right;\n",
       "    }\n",
       "</style>\n",
       "<table border=\"1\" class=\"dataframe\">\n",
       "  <thead>\n",
       "    <tr style=\"text-align: right;\">\n",
       "      <th></th>\n",
       "      <th>Patient ID</th>\n",
       "      <th>Age</th>\n",
       "      <th>Gender</th>\n",
       "      <th>Ethnicity</th>\n",
       "      <th>Education Level</th>\n",
       "      <th>OCD Diagnosis Date</th>\n",
       "      <th>Duration of Symptoms (months)</th>\n",
       "      <th>Previous Diagnoses</th>\n",
       "      <th>Family History of OCD</th>\n",
       "      <th>Obsession Type</th>\n",
       "      <th>Compulsion Type</th>\n",
       "      <th>Y-BOCS Score (Obsessions)</th>\n",
       "      <th>Y-BOCS Score (Compulsions)</th>\n",
       "      <th>Depression Diagnosis</th>\n",
       "      <th>Anxiety Diagnosis</th>\n",
       "      <th>Medications</th>\n",
       "    </tr>\n",
       "  </thead>\n",
       "  <tbody>\n",
       "    <tr>\n",
       "      <th>0</th>\n",
       "      <td>1018</td>\n",
       "      <td>32</td>\n",
       "      <td>Female</td>\n",
       "      <td>African</td>\n",
       "      <td>Some College</td>\n",
       "      <td>2016-07-15</td>\n",
       "      <td>203</td>\n",
       "      <td>MDD</td>\n",
       "      <td>No</td>\n",
       "      <td>Harm-related</td>\n",
       "      <td>Checking</td>\n",
       "      <td>17</td>\n",
       "      <td>10</td>\n",
       "      <td>Yes</td>\n",
       "      <td>Yes</td>\n",
       "      <td>SNRI</td>\n",
       "    </tr>\n",
       "    <tr>\n",
       "      <th>1</th>\n",
       "      <td>2406</td>\n",
       "      <td>69</td>\n",
       "      <td>Male</td>\n",
       "      <td>African</td>\n",
       "      <td>Some College</td>\n",
       "      <td>2017-04-28</td>\n",
       "      <td>180</td>\n",
       "      <td>NaN</td>\n",
       "      <td>Yes</td>\n",
       "      <td>Harm-related</td>\n",
       "      <td>Washing</td>\n",
       "      <td>21</td>\n",
       "      <td>25</td>\n",
       "      <td>Yes</td>\n",
       "      <td>Yes</td>\n",
       "      <td>SSRI</td>\n",
       "    </tr>\n",
       "    <tr>\n",
       "      <th>2</th>\n",
       "      <td>1188</td>\n",
       "      <td>57</td>\n",
       "      <td>Male</td>\n",
       "      <td>Hispanic</td>\n",
       "      <td>College Degree</td>\n",
       "      <td>2018-02-02</td>\n",
       "      <td>173</td>\n",
       "      <td>MDD</td>\n",
       "      <td>No</td>\n",
       "      <td>Contamination</td>\n",
       "      <td>Checking</td>\n",
       "      <td>3</td>\n",
       "      <td>4</td>\n",
       "      <td>No</td>\n",
       "      <td>No</td>\n",
       "      <td>Benzodiazepine</td>\n",
       "    </tr>\n",
       "    <tr>\n",
       "      <th>3</th>\n",
       "      <td>6200</td>\n",
       "      <td>27</td>\n",
       "      <td>Female</td>\n",
       "      <td>Hispanic</td>\n",
       "      <td>College Degree</td>\n",
       "      <td>2014-08-25</td>\n",
       "      <td>126</td>\n",
       "      <td>PTSD</td>\n",
       "      <td>Yes</td>\n",
       "      <td>Symmetry</td>\n",
       "      <td>Washing</td>\n",
       "      <td>14</td>\n",
       "      <td>28</td>\n",
       "      <td>Yes</td>\n",
       "      <td>Yes</td>\n",
       "      <td>SSRI</td>\n",
       "    </tr>\n",
       "    <tr>\n",
       "      <th>4</th>\n",
       "      <td>5824</td>\n",
       "      <td>56</td>\n",
       "      <td>Female</td>\n",
       "      <td>Hispanic</td>\n",
       "      <td>High School</td>\n",
       "      <td>2022-02-20</td>\n",
       "      <td>168</td>\n",
       "      <td>PTSD</td>\n",
       "      <td>Yes</td>\n",
       "      <td>Hoarding</td>\n",
       "      <td>Ordering</td>\n",
       "      <td>39</td>\n",
       "      <td>18</td>\n",
       "      <td>No</td>\n",
       "      <td>No</td>\n",
       "      <td>NaN</td>\n",
       "    </tr>\n",
       "    <tr>\n",
       "      <th>...</th>\n",
       "      <td>...</td>\n",
       "      <td>...</td>\n",
       "      <td>...</td>\n",
       "      <td>...</td>\n",
       "      <td>...</td>\n",
       "      <td>...</td>\n",
       "      <td>...</td>\n",
       "      <td>...</td>\n",
       "      <td>...</td>\n",
       "      <td>...</td>\n",
       "      <td>...</td>\n",
       "      <td>...</td>\n",
       "      <td>...</td>\n",
       "      <td>...</td>\n",
       "      <td>...</td>\n",
       "      <td>...</td>\n",
       "    </tr>\n",
       "    <tr>\n",
       "      <th>1495</th>\n",
       "      <td>5374</td>\n",
       "      <td>38</td>\n",
       "      <td>Male</td>\n",
       "      <td>Hispanic</td>\n",
       "      <td>College Degree</td>\n",
       "      <td>2019-01-10</td>\n",
       "      <td>53</td>\n",
       "      <td>MDD</td>\n",
       "      <td>No</td>\n",
       "      <td>Contamination</td>\n",
       "      <td>Washing</td>\n",
       "      <td>21</td>\n",
       "      <td>33</td>\n",
       "      <td>Yes</td>\n",
       "      <td>Yes</td>\n",
       "      <td>SSRI</td>\n",
       "    </tr>\n",
       "    <tr>\n",
       "      <th>1496</th>\n",
       "      <td>5013</td>\n",
       "      <td>19</td>\n",
       "      <td>Female</td>\n",
       "      <td>Hispanic</td>\n",
       "      <td>Graduate Degree</td>\n",
       "      <td>2022-09-14</td>\n",
       "      <td>160</td>\n",
       "      <td>GAD</td>\n",
       "      <td>Yes</td>\n",
       "      <td>Hoarding</td>\n",
       "      <td>Praying</td>\n",
       "      <td>25</td>\n",
       "      <td>16</td>\n",
       "      <td>Yes</td>\n",
       "      <td>Yes</td>\n",
       "      <td>SSRI</td>\n",
       "    </tr>\n",
       "    <tr>\n",
       "      <th>1497</th>\n",
       "      <td>6089</td>\n",
       "      <td>40</td>\n",
       "      <td>Male</td>\n",
       "      <td>Asian</td>\n",
       "      <td>Some College</td>\n",
       "      <td>2018-03-13</td>\n",
       "      <td>100</td>\n",
       "      <td>NaN</td>\n",
       "      <td>Yes</td>\n",
       "      <td>Contamination</td>\n",
       "      <td>Counting</td>\n",
       "      <td>2</td>\n",
       "      <td>15</td>\n",
       "      <td>Yes</td>\n",
       "      <td>Yes</td>\n",
       "      <td>Benzodiazepine</td>\n",
       "    </tr>\n",
       "    <tr>\n",
       "      <th>1498</th>\n",
       "      <td>3808</td>\n",
       "      <td>37</td>\n",
       "      <td>Female</td>\n",
       "      <td>Caucasian</td>\n",
       "      <td>Some College</td>\n",
       "      <td>2018-04-14</td>\n",
       "      <td>210</td>\n",
       "      <td>GAD</td>\n",
       "      <td>Yes</td>\n",
       "      <td>Contamination</td>\n",
       "      <td>Washing</td>\n",
       "      <td>16</td>\n",
       "      <td>7</td>\n",
       "      <td>Yes</td>\n",
       "      <td>No</td>\n",
       "      <td>Benzodiazepine</td>\n",
       "    </tr>\n",
       "    <tr>\n",
       "      <th>1499</th>\n",
       "      <td>2221</td>\n",
       "      <td>18</td>\n",
       "      <td>Male</td>\n",
       "      <td>Caucasian</td>\n",
       "      <td>High School</td>\n",
       "      <td>2020-12-23</td>\n",
       "      <td>91</td>\n",
       "      <td>NaN</td>\n",
       "      <td>Yes</td>\n",
       "      <td>Hoarding</td>\n",
       "      <td>Ordering</td>\n",
       "      <td>22</td>\n",
       "      <td>34</td>\n",
       "      <td>Yes</td>\n",
       "      <td>No</td>\n",
       "      <td>SNRI</td>\n",
       "    </tr>\n",
       "  </tbody>\n",
       "</table>\n",
       "<p>1500 rows × 16 columns</p>\n",
       "</div>"
      ],
      "text/plain": [
       "      Patient ID  Age  Gender  Ethnicity  Education Level OCD Diagnosis Date  \\\n",
       "0           1018   32  Female    African     Some College         2016-07-15   \n",
       "1           2406   69    Male    African     Some College         2017-04-28   \n",
       "2           1188   57    Male   Hispanic   College Degree         2018-02-02   \n",
       "3           6200   27  Female   Hispanic   College Degree         2014-08-25   \n",
       "4           5824   56  Female   Hispanic      High School         2022-02-20   \n",
       "...          ...  ...     ...        ...              ...                ...   \n",
       "1495        5374   38    Male   Hispanic   College Degree         2019-01-10   \n",
       "1496        5013   19  Female   Hispanic  Graduate Degree         2022-09-14   \n",
       "1497        6089   40    Male      Asian     Some College         2018-03-13   \n",
       "1498        3808   37  Female  Caucasian     Some College         2018-04-14   \n",
       "1499        2221   18    Male  Caucasian      High School         2020-12-23   \n",
       "\n",
       "      Duration of Symptoms (months) Previous Diagnoses Family History of OCD  \\\n",
       "0                               203                MDD                    No   \n",
       "1                               180                NaN                   Yes   \n",
       "2                               173                MDD                    No   \n",
       "3                               126               PTSD                   Yes   \n",
       "4                               168               PTSD                   Yes   \n",
       "...                             ...                ...                   ...   \n",
       "1495                             53                MDD                    No   \n",
       "1496                            160                GAD                   Yes   \n",
       "1497                            100                NaN                   Yes   \n",
       "1498                            210                GAD                   Yes   \n",
       "1499                             91                NaN                   Yes   \n",
       "\n",
       "     Obsession Type Compulsion Type  Y-BOCS Score (Obsessions)  \\\n",
       "0      Harm-related        Checking                         17   \n",
       "1      Harm-related         Washing                         21   \n",
       "2     Contamination        Checking                          3   \n",
       "3          Symmetry         Washing                         14   \n",
       "4          Hoarding        Ordering                         39   \n",
       "...             ...             ...                        ...   \n",
       "1495  Contamination         Washing                         21   \n",
       "1496       Hoarding         Praying                         25   \n",
       "1497  Contamination        Counting                          2   \n",
       "1498  Contamination         Washing                         16   \n",
       "1499       Hoarding        Ordering                         22   \n",
       "\n",
       "      Y-BOCS Score (Compulsions) Depression Diagnosis Anxiety Diagnosis  \\\n",
       "0                             10                  Yes               Yes   \n",
       "1                             25                  Yes               Yes   \n",
       "2                              4                   No                No   \n",
       "3                             28                  Yes               Yes   \n",
       "4                             18                   No                No   \n",
       "...                          ...                  ...               ...   \n",
       "1495                          33                  Yes               Yes   \n",
       "1496                          16                  Yes               Yes   \n",
       "1497                          15                  Yes               Yes   \n",
       "1498                           7                  Yes                No   \n",
       "1499                          34                  Yes                No   \n",
       "\n",
       "         Medications  \n",
       "0               SNRI  \n",
       "1               SSRI  \n",
       "2     Benzodiazepine  \n",
       "3               SSRI  \n",
       "4                NaN  \n",
       "...              ...  \n",
       "1495            SSRI  \n",
       "1496            SSRI  \n",
       "1497  Benzodiazepine  \n",
       "1498  Benzodiazepine  \n",
       "1499            SNRI  \n",
       "\n",
       "[1500 rows x 16 columns]"
      ]
     },
     "execution_count": 14,
     "metadata": {},
     "output_type": "execute_result"
    }
   ],
   "source": [
    "#Dropping the \"Marital Status\" column\n",
    "#Analysis revealed that \"Marital Status\" has no significant correlation\n",
    "#with the OCD outcomes as determined by preliminary statistical tests\n",
    "#(e.g. correlation coefficients and p-values were not statistically significant)\n",
    "\n",
    "#Keeping this variable in the dataset would unnecessarilly complicate the analysison,\n",
    "#So it will be removed to focus more influential factors related to OCD\n",
    "\n",
    "df_patient.drop(columns=[\"Marital Status\"])"
   ]
  },
  {
   "cell_type": "code",
   "execution_count": 15,
   "id": "5eb87796-003d-46bd-94cf-aa21672ff204",
   "metadata": {},
   "outputs": [],
   "source": [
    "#Previous Diagnoses and Medications are having more missing values.\n",
    "#Create indicators for missing values before imputation\n",
    "df_patient[\"Previous Diagnosis Missing\"]=df_patient[\"Previous Diagnoses\"].isnull().astype(int)\n",
    "df_patient[\"Medications Missing\"]=df_patient[\"Medications\"].isnull().astype(int)\n",
    "\n",
    "#Fill missing values with mode as both are categorical data\n",
    "mode_medications=df_patient[\"Previous Diagnoses\"].mode()[0]\n",
    "df_patient.fillna({\"Previous Diagnoses\": \"Not Diagnosed\"},inplace=True)\n",
    "\n",
    "mode_medications=df_patient[\"Medications\"].mode()[0]\n",
    "df_patient.fillna({\"Medications\": mode_medications},inplace=True)\n",
    "\n",
    "#Apply one-hot encoding to the categorical variables\n",
    "df_patient_encoded=pd.get_dummies(df_patient,columns=[\"Previous Diagnoses\",\"Medications\"],drop_first=True)"
   ]
  },
  {
   "cell_type": "code",
   "execution_count": 16,
   "id": "ea52518f-2cfa-4e62-ad88-fbb26b4b3387",
   "metadata": {},
   "outputs": [
    {
     "data": {
      "text/html": [
       "<div>\n",
       "<style scoped>\n",
       "    .dataframe tbody tr th:only-of-type {\n",
       "        vertical-align: middle;\n",
       "    }\n",
       "\n",
       "    .dataframe tbody tr th {\n",
       "        vertical-align: top;\n",
       "    }\n",
       "\n",
       "    .dataframe thead th {\n",
       "        text-align: right;\n",
       "    }\n",
       "</style>\n",
       "<table border=\"1\" class=\"dataframe\">\n",
       "  <thead>\n",
       "    <tr style=\"text-align: right;\">\n",
       "      <th></th>\n",
       "      <th>Patient ID</th>\n",
       "      <th>Age</th>\n",
       "      <th>OCD Diagnosis Date</th>\n",
       "      <th>Duration of Symptoms (months)</th>\n",
       "      <th>Y-BOCS Score (Obsessions)</th>\n",
       "      <th>Y-BOCS Score (Compulsions)</th>\n",
       "      <th>Previous Diagnosis Missing</th>\n",
       "      <th>Medications Missing</th>\n",
       "    </tr>\n",
       "  </thead>\n",
       "  <tbody>\n",
       "    <tr>\n",
       "      <th>count</th>\n",
       "      <td>1500.000000</td>\n",
       "      <td>1500.000000</td>\n",
       "      <td>1500</td>\n",
       "      <td>1500.000000</td>\n",
       "      <td>1500.000000</td>\n",
       "      <td>1500.00000</td>\n",
       "      <td>1500.000000</td>\n",
       "      <td>1500.000000</td>\n",
       "    </tr>\n",
       "    <tr>\n",
       "      <th>mean</th>\n",
       "      <td>5541.254000</td>\n",
       "      <td>46.781333</td>\n",
       "      <td>2018-05-11 02:33:36</td>\n",
       "      <td>121.745333</td>\n",
       "      <td>20.048000</td>\n",
       "      <td>19.62600</td>\n",
       "      <td>0.165333</td>\n",
       "      <td>0.257333</td>\n",
       "    </tr>\n",
       "    <tr>\n",
       "      <th>min</th>\n",
       "      <td>1017.000000</td>\n",
       "      <td>18.000000</td>\n",
       "      <td>2013-11-13 00:00:00</td>\n",
       "      <td>6.000000</td>\n",
       "      <td>0.000000</td>\n",
       "      <td>0.00000</td>\n",
       "      <td>0.000000</td>\n",
       "      <td>0.000000</td>\n",
       "    </tr>\n",
       "    <tr>\n",
       "      <th>25%</th>\n",
       "      <td>3338.000000</td>\n",
       "      <td>32.000000</td>\n",
       "      <td>2016-03-16 00:00:00</td>\n",
       "      <td>64.000000</td>\n",
       "      <td>10.000000</td>\n",
       "      <td>9.00000</td>\n",
       "      <td>0.000000</td>\n",
       "      <td>0.000000</td>\n",
       "    </tr>\n",
       "    <tr>\n",
       "      <th>50%</th>\n",
       "      <td>5539.500000</td>\n",
       "      <td>47.000000</td>\n",
       "      <td>2018-05-11 00:00:00</td>\n",
       "      <td>121.000000</td>\n",
       "      <td>20.000000</td>\n",
       "      <td>20.00000</td>\n",
       "      <td>0.000000</td>\n",
       "      <td>0.000000</td>\n",
       "    </tr>\n",
       "    <tr>\n",
       "      <th>75%</th>\n",
       "      <td>7745.500000</td>\n",
       "      <td>61.000000</td>\n",
       "      <td>2020-06-18 12:00:00</td>\n",
       "      <td>178.000000</td>\n",
       "      <td>31.000000</td>\n",
       "      <td>29.00000</td>\n",
       "      <td>0.000000</td>\n",
       "      <td>1.000000</td>\n",
       "    </tr>\n",
       "    <tr>\n",
       "      <th>max</th>\n",
       "      <td>9995.000000</td>\n",
       "      <td>75.000000</td>\n",
       "      <td>2022-11-09 00:00:00</td>\n",
       "      <td>240.000000</td>\n",
       "      <td>40.000000</td>\n",
       "      <td>40.00000</td>\n",
       "      <td>1.000000</td>\n",
       "      <td>1.000000</td>\n",
       "    </tr>\n",
       "    <tr>\n",
       "      <th>std</th>\n",
       "      <td>2562.389469</td>\n",
       "      <td>16.830321</td>\n",
       "      <td>NaN</td>\n",
       "      <td>67.404610</td>\n",
       "      <td>11.823884</td>\n",
       "      <td>11.78287</td>\n",
       "      <td>0.371605</td>\n",
       "      <td>0.437310</td>\n",
       "    </tr>\n",
       "  </tbody>\n",
       "</table>\n",
       "</div>"
      ],
      "text/plain": [
       "        Patient ID          Age   OCD Diagnosis Date  \\\n",
       "count  1500.000000  1500.000000                 1500   \n",
       "mean   5541.254000    46.781333  2018-05-11 02:33:36   \n",
       "min    1017.000000    18.000000  2013-11-13 00:00:00   \n",
       "25%    3338.000000    32.000000  2016-03-16 00:00:00   \n",
       "50%    5539.500000    47.000000  2018-05-11 00:00:00   \n",
       "75%    7745.500000    61.000000  2020-06-18 12:00:00   \n",
       "max    9995.000000    75.000000  2022-11-09 00:00:00   \n",
       "std    2562.389469    16.830321                  NaN   \n",
       "\n",
       "       Duration of Symptoms (months)  Y-BOCS Score (Obsessions)  \\\n",
       "count                    1500.000000                1500.000000   \n",
       "mean                      121.745333                  20.048000   \n",
       "min                         6.000000                   0.000000   \n",
       "25%                        64.000000                  10.000000   \n",
       "50%                       121.000000                  20.000000   \n",
       "75%                       178.000000                  31.000000   \n",
       "max                       240.000000                  40.000000   \n",
       "std                        67.404610                  11.823884   \n",
       "\n",
       "       Y-BOCS Score (Compulsions)  Previous Diagnosis Missing  \\\n",
       "count                  1500.00000                 1500.000000   \n",
       "mean                     19.62600                    0.165333   \n",
       "min                       0.00000                    0.000000   \n",
       "25%                       9.00000                    0.000000   \n",
       "50%                      20.00000                    0.000000   \n",
       "75%                      29.00000                    0.000000   \n",
       "max                      40.00000                    1.000000   \n",
       "std                      11.78287                    0.371605   \n",
       "\n",
       "       Medications Missing  \n",
       "count          1500.000000  \n",
       "mean              0.257333  \n",
       "min               0.000000  \n",
       "25%               0.000000  \n",
       "50%               0.000000  \n",
       "75%               1.000000  \n",
       "max               1.000000  \n",
       "std               0.437310  "
      ]
     },
     "execution_count": 16,
     "metadata": {},
     "output_type": "execute_result"
    }
   ],
   "source": [
    "#Statistical summery of numerical columns\n",
    "df_patient.describe()"
   ]
  },
  {
   "cell_type": "raw",
   "id": "0a4c314f-d2f8-4914-9e37-6be6ba82acb5",
   "metadata": {},
   "source": [
    "ANALYSIS OF NUMERICAL DATA:\n",
    "    - Demographics:\n",
    "        o 'Patient Id' : Total of 1500 unique patients, represnting a diverse cohort.\n",
    "        o 'Age' : Mean age is 46.8 years, with a range from 18 to 75 years, indicating OCD affects individuals across a broad age spectrum.\n",
    "    - Duration of Symptoms:\n",
    "        o The avarage duration of OCD symptoms is 121.75 months (appr. 10 years), with a range from 6 to 240 months, suggesting many patients have long-term symptoms.\n",
    "    -Y-BOCS Scores:\n",
    "        o Obsessions : Average Y-BOCS score for obsessions is 20.1 (range 0-40), indicating significant levels of obsessionsive symptoms.\n",
    "        o Compulsions : Average y_BOCS Score for compulsions is 19.6, suggesting comparable severity of both obsessions and compulsions among patients.\n",
    "\n",
    "    - Missing Data Indicators:\n",
    "        o Previous Diagnosis Missing: 16.5% of patients have missing information on previous diagnosis, which may affect understanding of treatment history.\n",
    "        o Medications Missing: 25.7% of patients have missing data regarding medications, highlighting potential gaps in treatment documentation.\n",
    "\n",
    "    - Variability in Data:\n",
    "        o High standard deviations for Y-BOCS Scores (obsessions: 11.78, compulsions:11.78) indicate considerable variability in symptoms severity, underscoring the need for tailored treatment approaches.\n",
    "        o The 75th percentile scores indicte that a significant subset of patients experiences severe symptoms, necessitating more intervention."
   ]
  },
  {
   "cell_type": "code",
   "execution_count": 17,
   "id": "7d94329c-138e-4f31-a1bb-1047c3aae25a",
   "metadata": {},
   "outputs": [
    {
     "data": {
      "text/html": [
       "<div>\n",
       "<style scoped>\n",
       "    .dataframe tbody tr th:only-of-type {\n",
       "        vertical-align: middle;\n",
       "    }\n",
       "\n",
       "    .dataframe tbody tr th {\n",
       "        vertical-align: top;\n",
       "    }\n",
       "\n",
       "    .dataframe thead th {\n",
       "        text-align: right;\n",
       "    }\n",
       "</style>\n",
       "<table border=\"1\" class=\"dataframe\">\n",
       "  <thead>\n",
       "    <tr style=\"text-align: right;\">\n",
       "      <th></th>\n",
       "      <th>Gender</th>\n",
       "      <th>Ethnicity</th>\n",
       "      <th>Marital Status</th>\n",
       "      <th>Education Level</th>\n",
       "      <th>Previous Diagnoses</th>\n",
       "      <th>Family History of OCD</th>\n",
       "      <th>Obsession Type</th>\n",
       "      <th>Compulsion Type</th>\n",
       "      <th>Depression Diagnosis</th>\n",
       "      <th>Anxiety Diagnosis</th>\n",
       "      <th>Medications</th>\n",
       "    </tr>\n",
       "  </thead>\n",
       "  <tbody>\n",
       "    <tr>\n",
       "      <th>count</th>\n",
       "      <td>1500</td>\n",
       "      <td>1500</td>\n",
       "      <td>1500</td>\n",
       "      <td>1500</td>\n",
       "      <td>1500</td>\n",
       "      <td>1500</td>\n",
       "      <td>1500</td>\n",
       "      <td>1500</td>\n",
       "      <td>1500</td>\n",
       "      <td>1500</td>\n",
       "      <td>1500</td>\n",
       "    </tr>\n",
       "    <tr>\n",
       "      <th>unique</th>\n",
       "      <td>2</td>\n",
       "      <td>4</td>\n",
       "      <td>3</td>\n",
       "      <td>4</td>\n",
       "      <td>5</td>\n",
       "      <td>2</td>\n",
       "      <td>5</td>\n",
       "      <td>5</td>\n",
       "      <td>2</td>\n",
       "      <td>2</td>\n",
       "      <td>3</td>\n",
       "    </tr>\n",
       "    <tr>\n",
       "      <th>top</th>\n",
       "      <td>Male</td>\n",
       "      <td>Caucasian</td>\n",
       "      <td>Single</td>\n",
       "      <td>Some College</td>\n",
       "      <td>MDD</td>\n",
       "      <td>Yes</td>\n",
       "      <td>Harm-related</td>\n",
       "      <td>Washing</td>\n",
       "      <td>Yes</td>\n",
       "      <td>Yes</td>\n",
       "      <td>Benzodiazepine</td>\n",
       "    </tr>\n",
       "    <tr>\n",
       "      <th>freq</th>\n",
       "      <td>753</td>\n",
       "      <td>398</td>\n",
       "      <td>511</td>\n",
       "      <td>394</td>\n",
       "      <td>345</td>\n",
       "      <td>760</td>\n",
       "      <td>333</td>\n",
       "      <td>321</td>\n",
       "      <td>772</td>\n",
       "      <td>751</td>\n",
       "      <td>772</td>\n",
       "    </tr>\n",
       "  </tbody>\n",
       "</table>\n",
       "</div>"
      ],
      "text/plain": [
       "       Gender  Ethnicity Marital Status Education Level Previous Diagnoses  \\\n",
       "count    1500       1500           1500            1500               1500   \n",
       "unique      2          4              3               4                  5   \n",
       "top      Male  Caucasian         Single    Some College                MDD   \n",
       "freq      753        398            511             394                345   \n",
       "\n",
       "       Family History of OCD Obsession Type Compulsion Type  \\\n",
       "count                   1500           1500            1500   \n",
       "unique                     2              5               5   \n",
       "top                      Yes   Harm-related         Washing   \n",
       "freq                     760            333             321   \n",
       "\n",
       "       Depression Diagnosis Anxiety Diagnosis     Medications  \n",
       "count                  1500              1500            1500  \n",
       "unique                    2                 2               3  \n",
       "top                     Yes               Yes  Benzodiazepine  \n",
       "freq                    772               751             772  "
      ]
     },
     "execution_count": 17,
     "metadata": {},
     "output_type": "execute_result"
    }
   ],
   "source": [
    "#Statistical summery of categorical columns\n",
    "df_patient.describe(include=[\"object\",\"category\"])"
   ]
  },
  {
   "cell_type": "raw",
   "id": "239e0912-0150-4859-98b3-2ae532926f04",
   "metadata": {},
   "source": [
    "ANALYSIS O CATEGORICAL DATA:\n",
    "    - Gender:\n",
    "        o The dataset contains 1500 patients, with 753 (10.2%) identified as male and 747  (49.8%) as Female This indicates a relatively balanced gender representation among OCD patients.\n",
    "\n",
    "    - Ethnicity:\n",
    "        o The most common ethnicity is Causasian (138 patients, 26.5%), followed by African, American (289,19.3%), Hispanic (233 patients, 15.5%), and Asian (118 patients, 7.9%). \n",
    "        o This suggests adiverse ethnic representation, with Caucasian  patients being the predominent group.\n",
    "\n",
    "    - Marital Status:\n",
    "        o 511 patients (34.1%) are single, while 485 (32.3%) are married and 504 (33.6%) are in other status such as divorsed and widowed. \n",
    "        o This indicates that a significant proportion of patients are single, which have implications for social support systems.\n",
    "\n",
    "    - Education Level:\n",
    "        o Most patients have achieved \"Some College\" (394 patients, 26.3%), followed by \"High School Graduate\" (371 patients, 24.7%). \n",
    "        o There is a relatively even distribution across educational levels, suggesting varied educational backgrounds in the patient population.\n",
    "\n",
    "    - Previous Diagnoses:\n",
    "        o The most common previous diagnosis is Major Depressive Disorder (MDD) (593 patients, 39.5%). This highlights a possible comorbidity of depression among OCD patients, which can complicate treatment and management.\n",
    "\n",
    "    - Family History of OCD:\n",
    "        o A majority of patients (760 patients, 50.7%) report a family history of OCD, suggesting a genetic or environmental component to the disorder. \n",
    "\n",
    "    - Obsession and Compulsion Types:\n",
    "        o Obsessions: The leading type of obsession is harm-related (333 patients, 22.2%), followed by contamination (296 patients, 19.7%). \n",
    "        o Compulsions: The most frequent compulsion type is washing (321 patients, 21.4%), indicating that compulsive behaviors often focus on cleanliness and safety.\n",
    "\n",
    "    - Comorbid Diagnoses:\n",
    "        o Depression Diagnosis: A significant number of patients (772 patients, 51.5%) have a diagnosed depression, emphasizing the prevalence of comorbid mental health conditions in this population.\n",
    "        o Anxiety Diagnosis: Similarly, 751 patients (50.0%) have an anxiety diagnosis, pointing to high rates of anxiety disorders alongside OCD.\n",
    "\n",
    "    - Medications:\n",
    "        o Medication Types: The most frequently reported medication category is Benzodiazepines (772 patients, 51.5%), followed by SSRIs (682 patients, 45.5%). This indicates a reliance on both anxiolytics and antidepressants for managing symptoms.\n"
   ]
  },
  {
   "cell_type": "code",
   "execution_count": 18,
   "id": "abea8528-2253-4fda-a415-554cf25210a7",
   "metadata": {},
   "outputs": [
    {
     "data": {
      "text/plain": [
       "array(['Some College', 'College Degree', 'High School', 'Graduate Degree'],\n",
       "      dtype=object)"
      ]
     },
     "execution_count": 18,
     "metadata": {},
     "output_type": "execute_result"
    }
   ],
   "source": [
    "df_patient[\"Education Level\"].unique()#'Some College', 'College Degree','Graduate Degree' all indicate attainment of graduate-level of education"
   ]
  },
  {
   "cell_type": "code",
   "execution_count": 19,
   "id": "721077f2-4e8a-4a3b-bb94-3451d1110ff6",
   "metadata": {},
   "outputs": [
    {
     "data": {
      "text/plain": [
       "array(['Degree Graduate', 'High School'], dtype=object)"
      ]
     },
     "execution_count": 19,
     "metadata": {},
     "output_type": "execute_result"
    }
   ],
   "source": [
    "#Function to convert various values of degree graduate into single value \"Graduate\"\n",
    "def graduate(degree):\n",
    "    if degree==\"Some College\" or degree==\"College Degree\" or degree==\"Graduate Degree\":\n",
    "        return \"Degree Graduate\"\n",
    "    return degree\n",
    "#Apply the graduate function to the 'Education Level' column in the predefined values\n",
    "df_patient[\"Education Level\"]=df_patient[\"Education Level\"].apply(graduate)\n",
    "df_patient[\"Education Level\"].unique()\n",
    "        "
   ]
  },
  {
   "cell_type": "code",
   "execution_count": 21,
   "id": "da16fb7e-4264-493e-b984-a0cb985efd2d",
   "metadata": {},
   "outputs": [],
   "source": [
    "#Creating age groups for the OCD dataset to simplify analysis, mitigate outliers,\n",
    "#and capture developmental difference in OCD presentation among age range\n",
    "\n",
    "#Define age bins and labels\n",
    "bins=[17,23,28,33,38,43,48,53,58,63,68,73,78,100]\n",
    "labels=[\"17-23\",\"23-28\",\"28-33\",\"33-38\",\"38-43\",\"43-48\",\"48-53\",\"53-58\",\"58-63\",\"63-68\",\"68-73\",\"73-78\",\"78+\"]\n",
    "\n",
    "#Create Age Group for obsessions and Compulsion analysis\n",
    "df_patient[\"Age Group\"]=pd.cut(df_patient[\"Age\"],bins=bins,labels=labels)\n",
    "\n"
   ]
  },
  {
   "cell_type": "code",
   "execution_count": 22,
   "id": "c86f7077-f6de-43d1-bb69-ff26b10b1067",
   "metadata": {},
   "outputs": [
    {
     "data": {
      "text/html": [
       "<div>\n",
       "<style scoped>\n",
       "    .dataframe tbody tr th:only-of-type {\n",
       "        vertical-align: middle;\n",
       "    }\n",
       "\n",
       "    .dataframe tbody tr th {\n",
       "        vertical-align: top;\n",
       "    }\n",
       "\n",
       "    .dataframe thead th {\n",
       "        text-align: right;\n",
       "    }\n",
       "</style>\n",
       "<table border=\"1\" class=\"dataframe\">\n",
       "  <thead>\n",
       "    <tr style=\"text-align: right;\">\n",
       "      <th></th>\n",
       "      <th>Patient ID</th>\n",
       "      <th>Age</th>\n",
       "      <th>Gender</th>\n",
       "      <th>Ethnicity</th>\n",
       "      <th>Marital Status</th>\n",
       "      <th>Education Level</th>\n",
       "      <th>OCD Diagnosis Date</th>\n",
       "      <th>Duration of Symptoms (months)</th>\n",
       "      <th>Previous Diagnoses</th>\n",
       "      <th>Family History of OCD</th>\n",
       "      <th>Obsession Type</th>\n",
       "      <th>Compulsion Type</th>\n",
       "      <th>Y-BOCS Score (Obsessions)</th>\n",
       "      <th>Y-BOCS Score (Compulsions)</th>\n",
       "      <th>Depression Diagnosis</th>\n",
       "      <th>Anxiety Diagnosis</th>\n",
       "      <th>Medications</th>\n",
       "      <th>Previous Diagnosis Missing</th>\n",
       "      <th>Medications Missing</th>\n",
       "      <th>Age Group</th>\n",
       "    </tr>\n",
       "  </thead>\n",
       "  <tbody>\n",
       "    <tr>\n",
       "      <th>0</th>\n",
       "      <td>1018</td>\n",
       "      <td>32</td>\n",
       "      <td>Female</td>\n",
       "      <td>African</td>\n",
       "      <td>Single</td>\n",
       "      <td>Degree Graduate</td>\n",
       "      <td>2016-07-15</td>\n",
       "      <td>203</td>\n",
       "      <td>MDD</td>\n",
       "      <td>No</td>\n",
       "      <td>Harm-related</td>\n",
       "      <td>Checking</td>\n",
       "      <td>17</td>\n",
       "      <td>10</td>\n",
       "      <td>Yes</td>\n",
       "      <td>Yes</td>\n",
       "      <td>SNRI</td>\n",
       "      <td>0</td>\n",
       "      <td>0</td>\n",
       "      <td>28-33</td>\n",
       "    </tr>\n",
       "    <tr>\n",
       "      <th>1</th>\n",
       "      <td>2406</td>\n",
       "      <td>69</td>\n",
       "      <td>Male</td>\n",
       "      <td>African</td>\n",
       "      <td>Divorced</td>\n",
       "      <td>Degree Graduate</td>\n",
       "      <td>2017-04-28</td>\n",
       "      <td>180</td>\n",
       "      <td>Not Diagnosed</td>\n",
       "      <td>Yes</td>\n",
       "      <td>Harm-related</td>\n",
       "      <td>Washing</td>\n",
       "      <td>21</td>\n",
       "      <td>25</td>\n",
       "      <td>Yes</td>\n",
       "      <td>Yes</td>\n",
       "      <td>SSRI</td>\n",
       "      <td>1</td>\n",
       "      <td>0</td>\n",
       "      <td>68-73</td>\n",
       "    </tr>\n",
       "    <tr>\n",
       "      <th>2</th>\n",
       "      <td>1188</td>\n",
       "      <td>57</td>\n",
       "      <td>Male</td>\n",
       "      <td>Hispanic</td>\n",
       "      <td>Divorced</td>\n",
       "      <td>Degree Graduate</td>\n",
       "      <td>2018-02-02</td>\n",
       "      <td>173</td>\n",
       "      <td>MDD</td>\n",
       "      <td>No</td>\n",
       "      <td>Contamination</td>\n",
       "      <td>Checking</td>\n",
       "      <td>3</td>\n",
       "      <td>4</td>\n",
       "      <td>No</td>\n",
       "      <td>No</td>\n",
       "      <td>Benzodiazepine</td>\n",
       "      <td>0</td>\n",
       "      <td>0</td>\n",
       "      <td>53-58</td>\n",
       "    </tr>\n",
       "    <tr>\n",
       "      <th>3</th>\n",
       "      <td>6200</td>\n",
       "      <td>27</td>\n",
       "      <td>Female</td>\n",
       "      <td>Hispanic</td>\n",
       "      <td>Married</td>\n",
       "      <td>Degree Graduate</td>\n",
       "      <td>2014-08-25</td>\n",
       "      <td>126</td>\n",
       "      <td>PTSD</td>\n",
       "      <td>Yes</td>\n",
       "      <td>Symmetry</td>\n",
       "      <td>Washing</td>\n",
       "      <td>14</td>\n",
       "      <td>28</td>\n",
       "      <td>Yes</td>\n",
       "      <td>Yes</td>\n",
       "      <td>SSRI</td>\n",
       "      <td>0</td>\n",
       "      <td>0</td>\n",
       "      <td>23-28</td>\n",
       "    </tr>\n",
       "    <tr>\n",
       "      <th>4</th>\n",
       "      <td>5824</td>\n",
       "      <td>56</td>\n",
       "      <td>Female</td>\n",
       "      <td>Hispanic</td>\n",
       "      <td>Married</td>\n",
       "      <td>High School</td>\n",
       "      <td>2022-02-20</td>\n",
       "      <td>168</td>\n",
       "      <td>PTSD</td>\n",
       "      <td>Yes</td>\n",
       "      <td>Hoarding</td>\n",
       "      <td>Ordering</td>\n",
       "      <td>39</td>\n",
       "      <td>18</td>\n",
       "      <td>No</td>\n",
       "      <td>No</td>\n",
       "      <td>Benzodiazepine</td>\n",
       "      <td>0</td>\n",
       "      <td>1</td>\n",
       "      <td>53-58</td>\n",
       "    </tr>\n",
       "  </tbody>\n",
       "</table>\n",
       "</div>"
      ],
      "text/plain": [
       "   Patient ID  Age  Gender Ethnicity Marital Status  Education Level  \\\n",
       "0        1018   32  Female   African         Single  Degree Graduate   \n",
       "1        2406   69    Male   African       Divorced  Degree Graduate   \n",
       "2        1188   57    Male  Hispanic       Divorced  Degree Graduate   \n",
       "3        6200   27  Female  Hispanic        Married  Degree Graduate   \n",
       "4        5824   56  Female  Hispanic        Married      High School   \n",
       "\n",
       "  OCD Diagnosis Date  Duration of Symptoms (months) Previous Diagnoses  \\\n",
       "0         2016-07-15                            203                MDD   \n",
       "1         2017-04-28                            180      Not Diagnosed   \n",
       "2         2018-02-02                            173                MDD   \n",
       "3         2014-08-25                            126               PTSD   \n",
       "4         2022-02-20                            168               PTSD   \n",
       "\n",
       "  Family History of OCD Obsession Type Compulsion Type  \\\n",
       "0                    No   Harm-related        Checking   \n",
       "1                   Yes   Harm-related         Washing   \n",
       "2                    No  Contamination        Checking   \n",
       "3                   Yes       Symmetry         Washing   \n",
       "4                   Yes       Hoarding        Ordering   \n",
       "\n",
       "   Y-BOCS Score (Obsessions)  Y-BOCS Score (Compulsions) Depression Diagnosis  \\\n",
       "0                         17                          10                  Yes   \n",
       "1                         21                          25                  Yes   \n",
       "2                          3                           4                   No   \n",
       "3                         14                          28                  Yes   \n",
       "4                         39                          18                   No   \n",
       "\n",
       "  Anxiety Diagnosis     Medications  Previous Diagnosis Missing  \\\n",
       "0               Yes            SNRI                           0   \n",
       "1               Yes            SSRI                           1   \n",
       "2                No  Benzodiazepine                           0   \n",
       "3               Yes            SSRI                           0   \n",
       "4                No  Benzodiazepine                           0   \n",
       "\n",
       "   Medications Missing Age Group  \n",
       "0                    0     28-33  \n",
       "1                    0     68-73  \n",
       "2                    0     53-58  \n",
       "3                    0     23-28  \n",
       "4                    1     53-58  "
      ]
     },
     "execution_count": 22,
     "metadata": {},
     "output_type": "execute_result"
    }
   ],
   "source": [
    "#Few rows of dataset after Cleaning\n",
    "df_patient.head()"
   ]
  },
  {
   "cell_type": "markdown",
   "id": "b89237b5-0254-4353-91b9-6db631599350",
   "metadata": {},
   "source": [
    "                                              VISUALISING DEMOGRAFIC DATA"
   ]
  },
  {
   "cell_type": "raw",
   "id": "ac0daf4c-939e-4e5d-a200-26e31eda1bd9",
   "metadata": {},
   "source": [
    "                                        OCD patient diagnisis across Age "
   ]
  },
  {
   "cell_type": "code",
   "execution_count": 23,
   "id": "ea4420bd-1b3b-41ba-bb87-443db9244736",
   "metadata": {},
   "outputs": [
    {
     "data": {
      "image/png": "[encoded data removed]",
      "text/plain": [
       "<Figure size 1200x400 with 1 Axes>"
      ]
     },
     "metadata": {},
     "output_type": "display_data"
    }
   ],
   "source": [
    "#Age Distribution\n",
    "\n",
    "#Plot a graph to shows the age distribution of OCD patients \n",
    "plt.figure(figsize=[12,4])\n",
    "sns.histplot(df_patient[\"Age\"],kde=True,bins=20)\n",
    "\n",
    "#Draw a vertical line of mean age\n",
    "mean_age=df_patient.Age.mean()\n",
    "plt.axvline(mean_age,color=\"Red\",linestyle=\"dashed\",linewidth=1) #Mark the mean in the graph \n",
    "plt.text(mean_age+1,3,f'Mean:{mean_age:.2f}',color='red')\n",
    "\n",
    "plt.title(\"Age Distribution of OCD Diagnised Patients\\n\")\n",
    "plt.xlabel(\"Age\")\n",
    "plt.ylabel(\"Frequency\")\n",
    "plt.tight_layout()\n",
    "plt.show()"
   ]
  },
  {
   "cell_type": "raw",
   "id": "c2ba800b-f2eb-4b44-b003-33703903e435",
   "metadata": {},
   "source": [
    "FINDINGS:\n",
    "    - Age distribution of OCD diagnisis spans various age-group, with the highest concentration in indivisuals aged 70+, followed by those in their 50's and 30's, The lowest diagnosis occurs around 37 and 57 patentially indicating underdiagnosis or other factors.\n",
    "    -The distribution shows significant representation across age groups, highlighting the need for medical professionals to be trained in a range of age-related mental health issues.\n",
    "    -There is a notable Uniformity in the healthcare facility."
   ]
  },
  {
   "cell_type": "raw",
   "id": "44e466d1-3cfd-4126-8cda-8050904fdf82",
   "metadata": {},
   "source": [
    "                                    OCD Patient Diagonisis across different Ethnicity"
   ]
  },
  {
   "cell_type": "code",
   "execution_count": 24,
   "id": "80b5ba46-d325-498c-b29f-37996fe9098f",
   "metadata": {},
   "outputs": [
    {
     "data": {
      "image/png": "[encoded data removed]",
      "text/plain": [
       "<Figure size 1200x400 with 1 Axes>"
      ]
     },
     "metadata": {},
     "output_type": "display_data"
    }
   ],
   "source": [
    "#Create graph that shows Ethnicity Distribution\n",
    "plt.figure(figsize=(12,4))\n",
    "ax=sns.countplot(y=\"Ethnicity\",data=df_patient,palette='viridis',hue='Ethnicity')\n",
    "\n",
    "#Annotate with counts to the right of each bar\n",
    "for p in ax.patches:  # Loop through the bars\n",
    "    ax.annotate(f'{p.get_width()}',  # Width of the bar (count)\n",
    "                (p.get_width(), p.get_y() + p.get_height() / 2.),  # Position (x, y)\n",
    "                ha='left', va='center',  # Horizontal and vertical alignment\n",
    "                fontsize=10, color='black',  # Font size and color\n",
    "                xytext=(5, 0),  # Adjust the label position\n",
    "                textcoords='offset points')  # Offset points\n",
    "\n",
    "\n",
    "plt.title(\"Number of Diagnosis across different Ethnicity\\n\")\n",
    "plt.xlabel(\"Number of Diagnosis\")\n",
    "plt.ylabel(\"Ethnicities Name\")\n",
    "plt.tight_layout()\n",
    "plt.show()"
   ]
  },
  {
   "cell_type": "raw",
   "id": "e9ebd79f-ebc5-433f-922c-c2891a1be72a",
   "metadata": {},
   "source": [
    "FINDINGS:\n",
    "    - The Diagnosis counts are similar across all Ethnicities, with \"African\" patients showing a slightly low Count, potentially due to lack of resources or awareness regarding mental health. "
   ]
  },
  {
   "cell_type": "raw",
   "id": "7fb1ff1b-072b-4175-a7a6-af69bbcda3de",
   "metadata": {},
   "source": [
    "                                                OCD Patient Diagnosis Over a Time"
   ]
  },
  {
   "cell_type": "code",
   "execution_count": 25,
   "id": "094dec84-fb94-4544-90ad-2ec6bf51f1b4",
   "metadata": {},
   "outputs": [
    {
     "data": {
      "image/png": "[encoded data removed]",
      "text/plain": [
       "<Figure size 1400x400 with 1 Axes>"
      ]
     },
     "metadata": {},
     "output_type": "display_data"
    }
   ],
   "source": [
    "#Grouping Data by Diagnosis Year and Month\n",
    "monthly_counts=df_patient.groupby(df_patient['OCD Diagnosis Date'].dt.to_period('M')).size()\n",
    "\n",
    "# Convert to a more suitable format for plotting\n",
    "monthly_counts.index = monthly_counts.index.to_timestamp()  # Convert PeriodIndex to Timestamp\n",
    "monthly_counts = monthly_counts.reset_index(name='Count')  # Reset index to have DataFrame format\n",
    "\n",
    "#Plotting a graph \n",
    "plt.figure(figsize=(14,4))\n",
    "plt.plot(monthly_counts[\"OCD Diagnosis Date\"],monthly_counts[\"Count\"],color=\"black\",marker=\"o\")\n",
    "plt.title(\"Number of Diagnosis Over Time\\n\")\n",
    "plt.xlabel(\"Date\")\n",
    "plt.ylabel(\"Number of Diagnosis\")\n",
    "plt.grid()\n",
    "#plt.xticks(df_patient[\"OCD Diagnosis Date\"].dt.year)\n",
    "plt.show()"
   ]
  },
  {
   "cell_type": "raw",
   "id": "38148c07-761e-4701-83c9-b9712318c9ce",
   "metadata": {},
   "source": [
    "Findings:\n",
    "    - Diagnosis count remained consistent each year, with occasional spike in 2018 and 2015.\n",
    "    - Monthly diagnosis flunctuate between 10 to 20 patients.\n",
    "    - A sharp declaine in 2013 may be due to incomplete data for that year.\n",
    "                                                                      "
   ]
  },
  {
   "cell_type": "code",
   "execution_count": null,
   "id": "b3aee81d-4147-40f7-b1c9-989b7f84ad7e",
   "metadata": {},
   "outputs": [],
   "source": []
  },
  {
   "cell_type": "raw",
   "id": "38e325b3-d3e9-4df7-8a57-68228a59007b",
   "metadata": {},
   "source": [
    "                                        ANALYSIS OF OBSESSION AND COMPULSION TYPES "
   ]
  },
  {
   "cell_type": "raw",
   "id": "8c92115c-e69c-4971-9f1e-d2a616c195c0",
   "metadata": {},
   "source": [
    "                                    Distribution of Obsession Type by Compulsion Types"
   ]
  },
  {
   "cell_type": "code",
   "execution_count": 26,
   "id": "dd87609e-de98-42dd-9311-d33b2a289a82",
   "metadata": {},
   "outputs": [
    {
     "data": {
      "image/png": "[encoded data removed]",
      "text/plain": [
       "<Figure size 2500x500 with 5 Axes>"
      ]
     },
     "metadata": {},
     "output_type": "display_data"
    }
   ],
   "source": [
    "#Create a facet grid\n",
    "com_type = sns.FacetGrid(df_patient, col='Obsession Type', col_wrap=5, height=5)\n",
    "\n",
    "#Map to count plot\n",
    "com_type.map(sns.countplot, 'Compulsion Type', order=df_patient['Compulsion Type'].value_counts().index,hue=df_patient['Compulsion Type'],palette='light:#1f77b4')\n",
    "\n",
    "for ax in com_type.axes.flatten():  # Loop through each axis\n",
    "    for p in ax.patches:  # Loop through the bars\n",
    "        ax.annotate(f'{p.get_height()}',  # Height of the bar (count)\n",
    "                    (p.get_x() + p.get_width() / 2., p.get_height()),  # Position (x, y)\n",
    "                    ha='center', va='bottom',  # Horizontal and vertical alignment\n",
    "                    fontsize=10, color='black',  # Font size and color\n",
    "                    xytext=(0, 5),  # Adjust the label position\n",
    "                    textcoords='offset points')  # Offset points\n",
    "\n",
    "#set axis label and title \n",
    "com_type.set_axis_labels(\"Compulsion Type\")\n",
    "com_type.set_xticklabels(rotation=90,label=df_patient[\"Compulsion Type\"])\n",
    "com_type.set_titles(col_template='{col_name}')\n",
    "\n",
    "#Update subplot total obsession counts\n",
    "total_count=df_patient[\"Obsession Type\"].value_counts()\n",
    "\n",
    "#Update subplot titles to include obsession counts\n",
    "for ax, obs_type in zip(com_type.axes.flatten(),total_count.index):\n",
    "    count=total_count[obs_type]\n",
    "    ax.set_title(f\"{obs_type} (Total : {count})\")\n",
    "com_type.fig.suptitle('Distribution of Obsession Types by Compulsion Type\\n\\n', fontsize=16)\n",
    "\n",
    "plt.legend()\n",
    "com_type.fig.subplots_adjust(top=0.75)\n",
    "plt.show()"
   ]
  },
  {
   "cell_type": "raw",
   "id": "b09e8728-ce4b-4c73-b017-fdebd626f6c4",
   "metadata": {},
   "source": [
    "FINDINGS:\n",
    "1. Prevelence of Obsession Types:\n",
    "    - \"Harm related\" Obsession is the most common obsession type (333 occurences) indicating that harm-related anxiety is a prevelent mental health concern.\n",
    "    - \"Contamination\" and \"Religious Obsessions\" also show high prevelence (306 and 3030 occurrences respectively).\n",
    "2. Compulsion Associations:\n",
    "    - \"Washing Compulsion\" strongly associated with \"Hoarding\" and \"Symmetry\" Obsessions. This may indicate that indivisuals with hoarding tendencies manifest compulsive washing as a coping mechanism.\n",
    "    - \"Counting\" Compulsion associated with \"harm-related\" and \"Religious\" obsessions."
   ]
  },
  {
   "cell_type": "raw",
   "id": "aad6a486-0ec7-4bea-bbf0-b3523f643046",
   "metadata": {},
   "source": [
    "                                Common Obsession and Compulsion Type Across different Age Group"
   ]
  },
  {
   "cell_type": "code",
   "execution_count": 28,
   "id": "5ef4a448-042c-4dec-8400-dacebdce5bbc",
   "metadata": {},
   "outputs": [
    {
     "data": {
      "image/png": "[encoded data removed]",
      "text/plain": [
       "<Figure size 1200x400 with 2 Axes>"
      ]
     },
     "metadata": {},
     "output_type": "display_data"
    }
   ],
   "source": [
    "#Grouping Obsession Type by Age Groups\n",
    "Obsession_counts=df_patient.groupby([\"Age Group\",\"Obsession Type\"],observed=False).size().unstack(fill_value=0)\n",
    "\n",
    "#Creating subplot\n",
    "fig,axs=plt.subplots(1,2,figsize=(12,4))\n",
    "\n",
    "#Plot a Graph for Obsession Type\n",
    "Obsession_counts.plot(kind=\"bar\",ax=axs[0])\n",
    "axs[0].legend(loc=\"lower right\")\n",
    "axs[0].set_title(\"Obsession Type Analysis by Age Group\")\n",
    "axs[0].set_xlabel(\"Age Group\")\n",
    "axs[0].set_ylabel(\"Obsession count\")\n",
    "axs[0].tick_params(rotation=90)\n",
    "\n",
    "#Grouping Compulsion Type by Age Group\n",
    "Compulsion_counts=df_patient.groupby([\"Age Group\",\"Compulsion Type\"],observed=False).size().unstack(fill_value=0)\n",
    "\n",
    "#Plot a Graph for Compulsion Type\n",
    "Compulsion_counts.plot(kind=\"bar\",ax=axs[1])\n",
    "axs[1].legend(loc=\"lower right\")\n",
    "axs[1].set_title(\"Compulsion Type Analysis by Age Group\")\n",
    "axs[1].set_xlabel(\"Age Group\")\n",
    "axs[1].set_ylabel(\"Compulsion count\")\n",
    "axs[1].tick_params(rotation=90)\n",
    "\n",
    "plt.tight_layout()\n",
    "plt.show()\n",
    "\n"
   ]
  },
  {
   "cell_type": "raw",
   "id": "2e2a364e-4cb9-4dae-b68e-a96572fd6178",
   "metadata": {},
   "source": [
    "FINDINGS:\n",
    "    - Distinct trends in obsession and compulsion types across groups highlights the nee ofr age-specific intervention strategies.\n",
    "    - The frequency of \"Religious\" Obsession in older adults and the higher counts of symmetry obsessions in younger adults suggest age- related cognitive and emotional processing factors affecting obsessionality."
   ]
  },
  {
   "cell_type": "code",
   "execution_count": null,
   "id": "ecceace8-0859-4f68-a94b-aafbe2e2cc13",
   "metadata": {},
   "outputs": [],
   "source": []
  },
  {
   "cell_type": "raw",
   "id": "eab8f70c-a805-49f0-95f7-1a675964373d",
   "metadata": {},
   "source": [
    "                                            Medication Visualisation "
   ]
  },
  {
   "cell_type": "code",
   "execution_count": 29,
   "id": "06135269-8e17-44da-a985-1f7fe8ab92f4",
   "metadata": {},
   "outputs": [
    {
     "data": {
      "image/png": "[encoded data removed]",
      "text/plain": [
       "<Figure size 800x300 with 1 Axes>"
      ]
     },
     "metadata": {},
     "output_type": "display_data"
    }
   ],
   "source": [
    "#Visualization of Medication Data\n",
    "plt.figure(figsize=(8,3))\n",
    "ax=sns.countplot(data=df_patient,y=df_patient[\"Medications\"],palette=\"Set2\",hue=\"Medications\",legend=False)\n",
    "\n",
    "#Adding counnt of each bar inside the plot\n",
    "for p in ax.patches:\n",
    "    ax.annotate(f'{p.get_width()}',\n",
    "                (p.get_width(),p.get_y()+p.get_height()/2),\n",
    "                ha='left',\n",
    "                va='center',\n",
    "                color='black',\n",
    "                fontsize=10,\n",
    "                weight='bold'\n",
    "               )\n",
    "\n",
    "plt.title(\"Medication Graph\")\n",
    "plt.xlabel(\"Medication\",color=\"Brown\")\n",
    "plt.ylabel(\"Number of Patient\",color=\"Brown\")\n",
    "plt.show()\n"
   ]
  },
  {
   "cell_type": "raw",
   "id": "0aacbab6-ae68-4c5d-ad4e-487e3b12adac",
   "metadata": {},
   "source": [
    "FINDINGS:\n",
    "    - The 'Benzodiapine' Medication have notebly high of prescription suggesting their varied application in the treatment of OCD.\n",
    "    - This is followed by a relatively close usage of SNRIs and SSRIs."
   ]
  },
  {
   "cell_type": "code",
   "execution_count": null,
   "id": "686561c3-62c8-4080-836b-61a1cdfec686",
   "metadata": {},
   "outputs": [],
   "source": []
  },
  {
   "cell_type": "markdown",
   "id": "639ebbe9-d9b8-4a5d-a066-436e75527fe5",
   "metadata": {},
   "source": [
    "                                        CLINICAL DATA ANALYSIS"
   ]
  },
  {
   "cell_type": "raw",
   "id": "b48278b2-b56c-4bb2-be73-1cf74eb2aaa9",
   "metadata": {},
   "source": [
    "                                Diagnosis Statistics by Gender and Education Level "
   ]
  },
  {
   "cell_type": "code",
   "execution_count": 30,
   "id": "835cc9ae-741c-467a-bdf4-edc01849467e",
   "metadata": {
    "scrolled": true
   },
   "outputs": [
    {
     "data": {
      "text/html": [
       "<style type=\"text/css\">\n",
       "#T_902b1 th {\n",
       "  background-color: lightblue;\n",
       "  border: 1px solid black;\n",
       "}\n",
       "#T_902b1 td {\n",
       "  border: 1px solid black;\n",
       "}\n",
       "</style>\n",
       "<table id=\"T_902b1\" style=\"font-size: 14px; border-collapse: collapse;\">\n",
       "  <thead>\n",
       "    <tr>\n",
       "      <th class=\"blank level0\" >&nbsp;</th>\n",
       "      <th id=\"T_902b1_level0_col0\" class=\"col_heading level0 col0\" >Gender</th>\n",
       "      <th id=\"T_902b1_level0_col1\" class=\"col_heading level0 col1\" >Education Level</th>\n",
       "      <th id=\"T_902b1_level0_col2\" class=\"col_heading level0 col2\" >Diagnosis_Count</th>\n",
       "      <th id=\"T_902b1_level0_col3\" class=\"col_heading level0 col3\" >Avg_Age</th>\n",
       "      <th id=\"T_902b1_level0_col4\" class=\"col_heading level0 col4\" >Mean_Duration_of_Symptoms_months</th>\n",
       "      <th id=\"T_902b1_level0_col5\" class=\"col_heading level0 col5\" >Mean_Y_BOCS_Score_Obsession</th>\n",
       "      <th id=\"T_902b1_level0_col6\" class=\"col_heading level0 col6\" >Mean_Y_BOCS_Score_compulsion</th>\n",
       "    </tr>\n",
       "  </thead>\n",
       "  <tbody>\n",
       "    <tr>\n",
       "      <th id=\"T_902b1_level0_row0\" class=\"row_heading level0 row0\" >0</th>\n",
       "      <td id=\"T_902b1_row0_col0\" class=\"data row0 col0\" >Female</td>\n",
       "      <td id=\"T_902b1_row0_col1\" class=\"data row0 col1\" >Degree Graduate</td>\n",
       "      <td id=\"T_902b1_row0_col2\" class=\"data row0 col2\" >565</td>\n",
       "      <td id=\"T_902b1_row0_col3\" class=\"data row0 col3\" >47.21</td>\n",
       "      <td id=\"T_902b1_row0_col4\" class=\"data row0 col4\" >121.45</td>\n",
       "      <td id=\"T_902b1_row0_col5\" class=\"data row0 col5\" >19.93</td>\n",
       "      <td id=\"T_902b1_row0_col6\" class=\"data row0 col6\" >19.47</td>\n",
       "    </tr>\n",
       "    <tr>\n",
       "      <th id=\"T_902b1_level0_row1\" class=\"row_heading level0 row1\" >1</th>\n",
       "      <td id=\"T_902b1_row1_col0\" class=\"data row1 col0\" >Female</td>\n",
       "      <td id=\"T_902b1_row1_col1\" class=\"data row1 col1\" >High School</td>\n",
       "      <td id=\"T_902b1_row1_col2\" class=\"data row1 col2\" >182</td>\n",
       "      <td id=\"T_902b1_row1_col3\" class=\"data row1 col3\" >46.07</td>\n",
       "      <td id=\"T_902b1_row1_col4\" class=\"data row1 col4\" >119.65</td>\n",
       "      <td id=\"T_902b1_row1_col5\" class=\"data row1 col5\" >21.01</td>\n",
       "      <td id=\"T_902b1_row1_col6\" class=\"data row1 col6\" >20.00</td>\n",
       "    </tr>\n",
       "    <tr>\n",
       "      <th id=\"T_902b1_level0_row2\" class=\"row_heading level0 row2\" >2</th>\n",
       "      <td id=\"T_902b1_row2_col0\" class=\"data row2 col0\" >Male</td>\n",
       "      <td id=\"T_902b1_row2_col1\" class=\"data row2 col1\" >Degree Graduate</td>\n",
       "      <td id=\"T_902b1_row2_col2\" class=\"data row2 col2\" >571</td>\n",
       "      <td id=\"T_902b1_row2_col3\" class=\"data row2 col3\" >46.98</td>\n",
       "      <td id=\"T_902b1_row2_col4\" class=\"data row2 col4\" >122.47</td>\n",
       "      <td id=\"T_902b1_row2_col5\" class=\"data row2 col5\" >19.81</td>\n",
       "      <td id=\"T_902b1_row2_col6\" class=\"data row2 col6\" >19.71</td>\n",
       "    </tr>\n",
       "    <tr>\n",
       "      <th id=\"T_902b1_level0_row3\" class=\"row_heading level0 row3\" >3</th>\n",
       "      <td id=\"T_902b1_row3_col0\" class=\"data row3 col0\" >Male</td>\n",
       "      <td id=\"T_902b1_row3_col1\" class=\"data row3 col1\" >High School</td>\n",
       "      <td id=\"T_902b1_row3_col2\" class=\"data row3 col2\" >182</td>\n",
       "      <td id=\"T_902b1_row3_col3\" class=\"data row3 col3\" >45.52</td>\n",
       "      <td id=\"T_902b1_row3_col4\" class=\"data row3 col4\" >122.48</td>\n",
       "      <td id=\"T_902b1_row3_col5\" class=\"data row3 col5\" >20.19</td>\n",
       "      <td id=\"T_902b1_row3_col6\" class=\"data row3 col6\" >19.47</td>\n",
       "    </tr>\n",
       "  </tbody>\n",
       "</table>\n"
      ],
      "text/plain": [
       "<pandas.io.formats.style.Styler at 0x225b7a83f80>"
      ]
     },
     "execution_count": 30,
     "metadata": {},
     "output_type": "execute_result"
    }
   ],
   "source": [
    "#Create a table to display the \n",
    "gender_dist=df_patient.groupby([\"Gender\",\"Education Level\"],as_index=False).agg(\n",
    "    Diagnosis_Count=(\"Education Level\",\"size\"),\n",
    "    Avg_Age=(\"Age\",\"mean\"),\n",
    "    Mean_Duration_of_Symptoms_months=(\"Duration of Symptoms (months)\",\"mean\"),\n",
    "    Mean_Y_BOCS_Score_Obsession=(\"Y-BOCS Score (Obsessions)\",\"mean\"),\n",
    "    Mean_Y_BOCS_Score_compulsion=(\"Y-BOCS Score (Compulsions)\",\"mean\")\n",
    ")\n",
    "\n",
    " \n",
    "gender_dist.style.format({\n",
    "    'Avg_Age':'{:,.2f}',\n",
    "    'Mean_Duration_of_Symptoms_months':'{:,.2f}',\n",
    "    'Mean_Y_BOCS_Score_Obsession':'{:,.2f}',\n",
    "    'Mean_Y_BOCS_Score_compulsion':'{:,.2f}'\n",
    "}).set_table_attributes('style=\"font-size: 14px; border-collapse: collapse;\"').set_table_styles(\n",
    "    [{'selector': 'th', 'props': [('background-color', 'lightblue'), ('border', '1px solid black')]},\n",
    "     {'selector': 'td', 'props': [('border', '1px solid black')]}]\n",
    ")\n"
   ]
  },
  {
   "cell_type": "raw",
   "id": "f68ff99f-684b-433b-95cf-8fedae60080d",
   "metadata": {},
   "source": [
    "FINDINGS:\n",
    "    - Degree Graduate show significantly higher diagnosis counts than High school graduates for both Genders, indicates strong influence Income. \n",
    "    - The average age for both genders is close to 46 years, suggesting a lack of diagnoses in the younger individuals.\n",
    "    - Both gender experience long duration of symptoms experienced (over 10 years) indicates that patients may have lived with their conditions for a substantial time before either seeking help or receiving a proper diagnosis.\n",
    "    - The Y-BOCS Scores indicate high levels of obsessive and compulsive symptoms for both genders, reflecting significant distress that may require intensive intervention."
   ]
  },
  {
   "cell_type": "code",
   "execution_count": null,
   "id": "5f6aa3ee-ffd7-461e-9fb7-753489b5972d",
   "metadata": {},
   "outputs": [],
   "source": []
  },
  {
   "cell_type": "raw",
   "id": "d5c077b2-7780-4202-8a8c-a91bd6963804",
   "metadata": {},
   "source": [
    "                    Analysis of Y-BOCS Scores: Gender Differences Across Age Groups by Gender"
   ]
  },
  {
   "cell_type": "code",
   "execution_count": 31,
   "id": "2323dd04-f2fc-4774-a30c-ab5f0f19f738",
   "metadata": {},
   "outputs": [
    {
     "data": {
      "image/png": "[encoded data removed]",
      "text/plain": [
       "<Figure size 1500x400 with 2 Axes>"
      ]
     },
     "metadata": {},
     "output_type": "display_data"
    },
    {
     "data": {
      "text/plain": [
       "<Figure size 1200x400 with 0 Axes>"
      ]
     },
     "metadata": {},
     "output_type": "display_data"
    },
    {
     "data": {
      "text/plain": [
       "<Figure size 1200x400 with 0 Axes>"
      ]
     },
     "metadata": {},
     "output_type": "display_data"
    }
   ],
   "source": [
    "#Grouping patient Age and Gender \n",
    "\n",
    "age_analysis=df_patient.groupby([\"Age\",\"Gender\"], as_index=False).agg(\n",
    "    Avg_Y_BOCS_Score_Obsession=(\"Y-BOCS Score (Obsessions)\",\"mean\"),\n",
    "    Avg_Y_BOCS_Score_Compulsion=(\"Y-BOCS Score (Compulsions)\",\"mean\")\n",
    "\n",
    ")\n",
    "\n",
    "#Add Age Group column for obsessions and Compulsion analysis\n",
    "age_analysis[\"Age Group\"]=df_patient[\"Age Group\"]\n",
    "\n",
    "\n",
    "#Create Subplot\n",
    "fig,axs=plt.subplots(1,2,figsize=(15,4))\n",
    "\n",
    "#plotting a graph to represent the Y-BOCS Score (Obsessions) variation over age and Education level\n",
    "plt.figure(figsize=(12,4))\n",
    "sns.barplot(data=age_analysis,x=\"Age Group\",y=\"Avg_Y_BOCS_Score_Obsession\",hue=\"Gender\",palette=\"Set2\",errorbar=None,ax=axs[0])\n",
    "axs[0].set_title(\"Y-BOCS Score (Obsessions) across Age Groups\")\n",
    "axs[0].set_xlabel(\"Age Group\")\n",
    "axs[0].set_ylabel(\"Y-BOCS Score (Obsessions)\")\n",
    "axs[0].tick_params(axis='x',rotation=90)\n",
    "axs[0].legend(loc=\"lower right\")\n",
    "\n",
    "#plotting a graph to represent the Y-BOCS Score (Obsessions) variation over age and Education level\n",
    "plt.figure(figsize=(12,4))\n",
    "sns.barplot(data=age_analysis,x=\"Age Group\",y=\"Avg_Y_BOCS_Score_Compulsion\",hue=\"Gender\",palette=\"Set2\",errorbar=None,ax=axs[1])\n",
    "axs[1].set_title(\"Y-BOCS Score (Compulsion) across Age Groups\")\n",
    "axs[1].set_xlabel(\"Age Group\")\n",
    "axs[1].set_ylabel(\"Y-BOCS Score (Compulsion)\")\n",
    "axs[1].tick_params(axis='x',rotation=90)\n",
    "axs[1].legend(loc=\"lower right\")\n",
    "\n",
    "plt.tight_layout()\n",
    "plt.show()"
   ]
  },
  {
   "cell_type": "raw",
   "id": "77e11f1b-7ebc-466e-9762-380036b9a404",
   "metadata": {
    "jp-MarkdownHeadingCollapsed": true
   },
   "source": [
    "FINDINGS:\n",
    "    - Y-BOCS Scores:\n",
    "        o Obsessions: Men (ages 63-68) and women (ages 73-78) shoe higher obsession scores, indicating a potential increase in OCD symptom severity with age.\n",
    "        o Compulsions: Middle-ages Men (ages 38-43) and Women (ages 28-33) exhibit high compulsions scores, suggesting increased compulsive behaviors to mange obsessive thoughts.\n",
    "\n",
    "    - Age and Gender Insights:\n",
    "        - Older Age groups women report higher obsession severity compared to men, indicating potential gender difference in OCD manifestation.\n",
    "        - Data suggest that middle aged indivisuals engage more in compulsion behaviour as their obsession score rise with age."
   ]
  },
  {
   "cell_type": "raw",
   "id": "fbe807fe-752e-41ba-9688-c3737050f3cf",
   "metadata": {},
   "source": [
    "                                    Statistical Test on Y-BOCS Score by Age Groups"
   ]
  },
  {
   "cell_type": "code",
   "execution_count": 32,
   "id": "52a618b0-f9d4-4395-ad5d-f0c94308eb3f",
   "metadata": {},
   "outputs": [
    {
     "name": "stdout",
     "output_type": "stream",
     "text": [
      "                   df        sum_sq     mean_sq         F    PR(>F)\n",
      "Q(\"Age Group\")   11.0   1561.245402  141.931400  0.979333  0.469936\n",
      "Residual        104.0  15072.366667  144.926603       NaN       NaN\n"
     ]
    }
   ],
   "source": [
    "#Define age bins and labels\n",
    "bins=[17,23,28,33,38,43,48,53,58,63,68,73,100]\n",
    "labels=[\"17-23\",\"23-28\",\"28-33\",\"33-38\",\"38-43\",\"43-48\",\"48-53\",\"53-58\",\"58-63\",\"63-68\",\"68-73\",\"70+\"]\n",
    "\n",
    "#Create Age Group for obsessions and Compulsion analysis\n",
    "df_patient[\"Age Group\"]=pd.cut(age_analysis[\"Age\"],bins=bins,labels=labels)\n",
    "\n",
    "\n",
    "#Perform ANOVA for Y-BOCS Score Obsession by Age\n",
    "model_age_gender=ols('Q(\"Y-BOCS Score (Obsessions)\")~Q(\"Age Group\")', data=df_patient).fit()\n",
    "annova_table_age_gender=sm.stats.anova_lm(model_age_gender,type=2)\n",
    "print(annova_table_age_gender)\n"
   ]
  },
  {
   "cell_type": "raw",
   "id": "3a066c41-6a2f-4fc6-ae34-7a835c0c26d6",
   "metadata": {},
   "source": [
    "FINDINGS:\n",
    "    -In case of \"Obsession Type\" the p-value (0.4699) much higher than significant value (0.05)  indicates that there is no significant difference in the obsession scores among the different Ages."
   ]
  },
  {
   "cell_type": "code",
   "execution_count": 33,
   "id": "f4ebda31-a404-4a4b-b05c-1eb5df2b41c7",
   "metadata": {},
   "outputs": [
    {
     "name": "stdout",
     "output_type": "stream",
     "text": [
      "Result of ANOVA Test for Compulsions Score:\n",
      "\n",
      "                      sum_sq     df         F   PR(>F)\n",
      "Q(\"Age Group\")   1084.140230   11.0  0.652451  0.77968\n",
      "Residual        15710.066667  104.0       NaN      NaN\n"
     ]
    }
   ],
   "source": [
    "#Perform ANOVA for Y-BOCS Score Compulsions by Age\n",
    "print(\"Result of ANOVA Test for Compulsions Score:\\n\")\n",
    "model_age=ols('Q(\"Y-BOCS Score (Compulsions)\")~Q(\"Age Group\")', data=df_patient).fit()\n",
    "annova_table_age=sm.stats.anova_lm(model_age,typ=2)\n",
    "print(annova_table_age)\n"
   ]
  },
  {
   "cell_type": "raw",
   "id": "040b95ae-4ee4-4ff6-a6dc-4f073d51c898",
   "metadata": {},
   "source": [
    "FINDINGS:\n",
    "    -In case of \"Compulsions Type\" the p-value (0.7797) much higher than significant value (0.05)  indicates that there is no significant difference in the obsession scores among the different Ages.\n",
    "\n",
    "CONCLUSION:\n",
    "    -Despite observations of higher Y-BOCS scores associated with certain age groups and gender differences, statistical analysis reveals no significant differences in obsession and compulsion scores across ages.\n",
    "    - This suggests that while symptoms severity may vary within demographic groups, underlying age-related differences in OCD symptoms may not be statistically significant."
   ]
  },
  {
   "cell_type": "code",
   "execution_count": null,
   "id": "c8299fce-155d-4cbf-9216-0a8a0e99c882",
   "metadata": {},
   "outputs": [],
   "source": []
  },
  {
   "cell_type": "raw",
   "id": "b8d64441-d917-4195-983d-e6df933d11fb",
   "metadata": {},
   "source": [
    "                Variation of Y-BOCS Score (Obsessions) & Y-BOCS Score (Compulsions) across Ethnicity"
   ]
  },
  {
   "cell_type": "code",
   "execution_count": 34,
   "id": "87c3b078-4bb1-4fd0-8ade-6ddff893a211",
   "metadata": {},
   "outputs": [
    {
     "data": {
      "text/html": [
       "<style type=\"text/css\">\n",
       "#T_98456 th {\n",
       "  background-color: lightblue;\n",
       "  border: 1px solid black;\n",
       "}\n",
       "#T_98456 td {\n",
       "  border: 1px solid black;\n",
       "}\n",
       "</style>\n",
       "<table id=\"T_98456\" style=\"font-size: 14px; border-collapse: collapse;\">\n",
       "  <thead>\n",
       "    <tr>\n",
       "      <th class=\"blank level0\" >&nbsp;</th>\n",
       "      <th id=\"T_98456_level0_col0\" class=\"col_heading level0 col0\" >Ethnicity</th>\n",
       "      <th id=\"T_98456_level0_col1\" class=\"col_heading level0 col1\" >Ethnicity_count</th>\n",
       "      <th id=\"T_98456_level0_col2\" class=\"col_heading level0 col2\" >Avg_Age</th>\n",
       "      <th id=\"T_98456_level0_col3\" class=\"col_heading level0 col3\" >Mean_Duration_symptoms_months</th>\n",
       "      <th id=\"T_98456_level0_col4\" class=\"col_heading level0 col4\" >Mean_Y_BOCS_Score_Obsession</th>\n",
       "      <th id=\"T_98456_level0_col5\" class=\"col_heading level0 col5\" >Mean_Y_BOCS_Score_Compulsion</th>\n",
       "    </tr>\n",
       "  </thead>\n",
       "  <tbody>\n",
       "    <tr>\n",
       "      <th id=\"T_98456_level0_row0\" class=\"row_heading level0 row0\" >0</th>\n",
       "      <td id=\"T_98456_row0_col0\" class=\"data row0 col0\" >African</td>\n",
       "      <td id=\"T_98456_row0_col1\" class=\"data row0 col1\" >324</td>\n",
       "      <td id=\"T_98456_row0_col2\" class=\"data row0 col2\" >46.16</td>\n",
       "      <td id=\"T_98456_row0_col3\" class=\"data row0 col3\" >122.15</td>\n",
       "      <td id=\"T_98456_row0_col4\" class=\"data row0 col4\" >19.76</td>\n",
       "      <td id=\"T_98456_row0_col5\" class=\"data row0 col5\" >18.99</td>\n",
       "    </tr>\n",
       "    <tr>\n",
       "      <th id=\"T_98456_level0_row1\" class=\"row_heading level0 row1\" >1</th>\n",
       "      <td id=\"T_98456_row1_col0\" class=\"data row1 col0\" >Asian</td>\n",
       "      <td id=\"T_98456_row1_col1\" class=\"data row1 col1\" >386</td>\n",
       "      <td id=\"T_98456_row1_col2\" class=\"data row1 col2\" >46.64</td>\n",
       "      <td id=\"T_98456_row1_col3\" class=\"data row1 col3\" >122.34</td>\n",
       "      <td id=\"T_98456_row1_col4\" class=\"data row1 col4\" >20.32</td>\n",
       "      <td id=\"T_98456_row1_col5\" class=\"data row1 col5\" >19.34</td>\n",
       "    </tr>\n",
       "    <tr>\n",
       "      <th id=\"T_98456_level0_row2\" class=\"row_heading level0 row2\" >2</th>\n",
       "      <td id=\"T_98456_row2_col0\" class=\"data row2 col0\" >Caucasian</td>\n",
       "      <td id=\"T_98456_row2_col1\" class=\"data row2 col1\" >398</td>\n",
       "      <td id=\"T_98456_row2_col2\" class=\"data row2 col2\" >46.96</td>\n",
       "      <td id=\"T_98456_row2_col3\" class=\"data row2 col3\" >120.56</td>\n",
       "      <td id=\"T_98456_row2_col4\" class=\"data row2 col4\" >19.79</td>\n",
       "      <td id=\"T_98456_row2_col5\" class=\"data row2 col5\" >19.53</td>\n",
       "    </tr>\n",
       "    <tr>\n",
       "      <th id=\"T_98456_level0_row3\" class=\"row_heading level0 row3\" >3</th>\n",
       "      <td id=\"T_98456_row3_col0\" class=\"data row3 col0\" >Hispanic</td>\n",
       "      <td id=\"T_98456_row3_col1\" class=\"data row3 col1\" >392</td>\n",
       "      <td id=\"T_98456_row3_col2\" class=\"data row3 col2\" >47.26</td>\n",
       "      <td id=\"T_98456_row3_col3\" class=\"data row3 col3\" >122.03</td>\n",
       "      <td id=\"T_98456_row3_col4\" class=\"data row3 col4\" >20.28</td>\n",
       "      <td id=\"T_98456_row3_col5\" class=\"data row3 col5\" >20.53</td>\n",
       "    </tr>\n",
       "  </tbody>\n",
       "</table>\n"
      ],
      "text/plain": [
       "<pandas.io.formats.style.Styler at 0x225b7bb3620>"
      ]
     },
     "execution_count": 34,
     "metadata": {},
     "output_type": "execute_result"
    }
   ],
   "source": [
    "#Grouping data by Ethnicity  \n",
    "ethnicity_dist=df_patient.groupby(\"Ethnicity\",as_index=False).agg(\n",
    "    Ethnicity_count=(\"Ethnicity\",\"size\"),\n",
    "    Avg_Age=(\"Age\",\"mean\"),\n",
    "    Mean_Duration_symptoms_months=(\"Duration of Symptoms (months)\",\"mean\"),\n",
    "    Mean_Y_BOCS_Score_Obsession=(\"Y-BOCS Score (Obsessions)\",\"mean\"),\n",
    "    Mean_Y_BOCS_Score_Compulsion=(\"Y-BOCS Score (Compulsions)\",\"mean\")\n",
    ")\n",
    "\n",
    "#Sorting data by Ethnicity count \n",
    "ethnicity_dist.sort_values(by=\"Ethnicity_count\",ascending=False)\n",
    "\n",
    "#Styling the table\n",
    "ethnicity_dist.style.format({\n",
    "    'Avg_Age':'{:,.2f}',\n",
    "    'Mean_Duration_symptoms_months':'{:,.2f}',\n",
    "    'Mean_Y_BOCS_Score_Obsession':'{:,.2f}',\n",
    "    'Mean_Y_BOCS_Score_Compulsion':'{:,.2f}'\n",
    "}).set_table_attributes('style=\"font-size: 14px; border-collapse: collapse;\"').set_table_styles(\n",
    "    [{'selector': 'th', 'props': [('background-color', 'lightblue'), ('border', '1px solid black')]},\n",
    "     {'selector': 'td', 'props': [('border', '1px solid black')]}]\n",
    ")"
   ]
  },
  {
   "cell_type": "raw",
   "id": "85caeb82-7536-407e-8145-266f0dc08bf5",
   "metadata": {},
   "source": [
    "FINDINGS:\n",
    "    - Diagnosis count across all four Ethnicities similar, with the African Ethnicity showing slightly fewer diagnosis.\n",
    "    - The average Age across Ethnicities is close to 46 years, indicating a lack of diagnises in younger individuals.\n",
    "    - All Ethnicities report a long duration of symptoms (over 10 years), suggesteing patients may have lived with their conditions for a significantl time before either seeking help or receiving a proper diagnosis.\n",
    "    - The Y-BOCS Scores indicate a high level of obsessive and compulsive symptoms across all ethnicities, with difference of two points, reflecting significant level of distress or impairement that may necessitate intensive intervention."
   ]
  },
  {
   "cell_type": "raw",
   "id": "95c1d13c-f572-494c-9f46-d9e72a37f131",
   "metadata": {},
   "source": [
    "                        Statistical Tests on Y-BOCS Score among Ethnicity Groups"
   ]
  },
  {
   "cell_type": "code",
   "execution_count": 35,
   "id": "a5166782-08dc-482a-be8e-e95e2725721d",
   "metadata": {},
   "outputs": [
    {
     "name": "stdout",
     "output_type": "stream",
     "text": [
      "Result of ANOVA Test for Obsession Score:\n",
      "\n",
      "                      sum_sq     df         F    PR(>F)\n",
      "C(Ethnicity)       71.792753    3.0  0.161129  0.922259\n",
      "Q(\"Age Group\")   1422.904560   11.0  0.870957  0.570939\n",
      "Residual        15000.573914  101.0       NaN       NaN \n",
      "\n",
      "\n",
      "\n",
      "Result of ANOVA Test for Compulsion Score:\n",
      "\n",
      "                      sum_sq     df         F    PR(>F)\n",
      "C(Ethnicity)      790.104245    3.0  1.782858  0.155220\n",
      "Q(\"Age Group\")   1117.784846   11.0  0.687890  0.747184\n",
      "Residual        14919.962422  101.0       NaN       NaN\n"
     ]
    }
   ],
   "source": [
    "#perform the ANOVA for Obsession Score\n",
    "print(\"Result of ANOVA Test for Obsession Score:\\n\")\n",
    "model_obs=ols('Q(\"Y-BOCS Score (Obsessions)\")~C(Ethnicity) + Q(\"Age Group\")', data=df_patient).fit()\n",
    "annova_table_obs=sm.stats.anova_lm(model_obs,typ=2)\n",
    "print(annova_table_obs,\"\\n\\n\\n\")\n",
    "\n",
    "#Perform the ANOVA for Compulsion Score\n",
    "print(\"Result of ANOVA Test for Compulsion Score:\\n\")\n",
    "model_com=ols('Q(\"Y-BOCS Score (Compulsions)\")~C(Ethnicity) + Q(\"Age Group\")', data=df_patient).fit()\n",
    "annova_table_com=sm.stats.anova_lm(model_com,typ=2)\n",
    "print(annova_table_com)"
   ]
  },
  {
   "cell_type": "raw",
   "id": "a8aacf83-0d9d-4a94-9119-7623790051c9",
   "metadata": {},
   "source": [
    "FINDINGS:\n",
    "1.ANOVA Test Result:\n",
    "    - In case of \"Obsession Type\" the p-value (Ethnicity:0.9222, Age Group:0.5709) much higher than significant value (0.05)  indicates that there is no significant difference in the obsession scores among the different ethnic groups.\n",
    "    - Again, In case of \"Compulsion Type\" the p-value (Ethnicity:0.1552,Age Group:0.7471) is much greater than 0.05, suggesting that there is no statistically significant difference in the compulsion scores among the ethnic groups.\n",
    "\n",
    "CONCLUSION:\n",
    "    - All Ethnicities seem to experience similar severity levels of obsessive and compulsive symptoms based on Y-BOCS Score.\n",
    "    - The lack of difference shows that factors like ethnicity did not have a distict impact on the severity of of obsessions and compulsions in this sample."
   ]
  },
  {
   "cell_type": "code",
   "execution_count": null,
   "id": "9d5fa055-e3d3-4778-aba8-ff37675029eb",
   "metadata": {},
   "outputs": [],
   "source": []
  },
  {
   "cell_type": "raw",
   "id": "e1e41a3e-01b9-4cec-9b2e-4e931facc4ec",
   "metadata": {},
   "source": [
    "                Variation of Y-BOCS Score (Obsessions) & Y-BOCS Score (Compulsions) by Family History"
   ]
  },
  {
   "cell_type": "code",
   "execution_count": 36,
   "id": "c011e1e5-4abb-4d4d-9be6-50735027dc81",
   "metadata": {},
   "outputs": [
    {
     "data": {
      "image/png": "[encoded data removed]",
      "text/plain": [
       "<Figure size 1200x300 with 2 Axes>"
      ]
     },
     "metadata": {},
     "output_type": "display_data"
    }
   ],
   "source": [
    "#Calculate the mean Y-BOCS Score of Obsessions based on family History\n",
    "family_analysis=df_patient.groupby(\"Family History of OCD\").agg(\n",
    "    count=(\"Family History of OCD\",\"size\") ,\n",
    "    y_bocs_obs_score=(\"Y-BOCS Score (Obsessions)\",\"mean\"),\n",
    "    y_bocs_cpl_score=(\"Y-BOCS Score (Compulsions)\",\"mean\")\n",
    "    \n",
    ").reset_index()\n",
    "family_analysis.columns=[\"Family History of OCD\",\"Count\",\"Mean Obsessions Score\",\"Mean Compulsions Score\"]\n",
    "\n",
    "#Creating the subplots\n",
    "fig,axs=plt.subplots(1,2,figsize=(12,3))\n",
    "\n",
    "#Creating the bar plt for the Y-BOCS Score for obsessions  \n",
    "sns.barplot(data=family_analysis,y=\"Family History of OCD\",x=\"Mean Obsessions Score\",color=\"lightblue\",ax=axs[0])\n",
    "axs[0].set_title(\"Mean Y-BOCS Obsession Score by Family History\")\n",
    "axs[0].set_xlabel(\"Mean Y-BOCS Score for Obsessions\")\n",
    "\n",
    "#Creating the bar plot for the \n",
    "sns.barplot(data=family_analysis,y=\"Family History of OCD\",x=\"Mean Compulsions Score\",color=\"blue\",alpha=0.85,ax=axs[1])\n",
    "axs[1].set_title(\"Mean Y-BOCS Compulsions Score by Family History\")\n",
    "axs[1].set_xlabel(\"Mean Y-BOCS Score for Compulsions\")\n",
    "\n",
    "plt.tight_layout()\n",
    "plt.show()\n"
   ]
  },
  {
   "cell_type": "raw",
   "id": "67f98ebf-354c-41f0-91f8-6ab9afa53e77",
   "metadata": {},
   "source": [
    "FINDINGS:\n",
    "    - Patient with a 'Family History' exhibit a higher mean Y-BOCS score for Obsession, though the difference is mininal.\n",
    "    - Conversely, patients 'without family History' show a higher Y-BOCS score for Compulsion, with diffrence also being minimal."
   ]
  },
  {
   "cell_type": "raw",
   "id": "7b1c2f4c-4de1-4eea-a01d-4fa180d8981a",
   "metadata": {},
   "source": [
    "                            Statistical Analysis of Y-BOCS Score by Family History"
   ]
  },
  {
   "cell_type": "code",
   "execution_count": 37,
   "id": "32bf88b4-7896-44ba-b1bd-e08c2ef2fce1",
   "metadata": {},
   "outputs": [
    {
     "name": "stdout",
     "output_type": "stream",
     "text": [
      "T-test Result:\n",
      "T-statistic:-0.19421740669751822\n",
      "P-value:0.8460319873000419\n",
      "Fail to reject the null hypothesis - There is no significance difference in the Y-BOCS score Obsessions\n"
     ]
    }
   ],
   "source": [
    "#SPlitting data into two groups based family History for Y-BOCS Score (Obsession) \n",
    "grp_with_history=df_patient[df_patient[\"Family History of OCD\"]==\"Yes\"][\"Y-BOCS Score (Obsessions)\"]\n",
    "grp_without_history=df_patient[df_patient[\"Family History of OCD\"]==\"No\"][\"Y-BOCS Score (Obsessions)\"]\n",
    "\n",
    "#perform the t-test\n",
    "t_stat,p_value=stats.ttest_ind(grp_with_history,grp_without_history)\n",
    "\n",
    "#print the results\n",
    "print(\"T-test Result:\")\n",
    "print(f\"T-statistic:{t_stat}\")\n",
    "print(f\"P-value:{p_value}\")\n",
    "\n",
    "#interpret the results\n",
    "alpha=0.05\n",
    "if p_value < alpha:\n",
    "    print(\"Reject the null hypothesis - there is a significant difference in Y-BOCS scores Obsessions between the two groups.\")\n",
    "else:\n",
    "    print(\"Fail to reject the null hypothesis - There is no significance difference in the Y-BOCS score Obsessions\")"
   ]
  },
  {
   "cell_type": "code",
   "execution_count": 38,
   "id": "bd075fd3",
   "metadata": {},
   "outputs": [
    {
     "name": "stdout",
     "output_type": "stream",
     "text": [
      "T-test Result:\n",
      "T-statistic:-1.1518037057601531\n",
      "P-value:0.24958553469023995\n",
      "Fail to reject the null hypothesis - There is no significance difference in the Y-BOCS score of Compulsions\n"
     ]
    }
   ],
   "source": [
    "#SPlitting data into two groups based family History for Y-BOCS Score (Compulsions) \n",
    "grp_with_history=df_patient[df_patient[\"Family History of OCD\"]==\"Yes\"][\"Y-BOCS Score (Compulsions)\"]\n",
    "grp_without_history=df_patient[df_patient[\"Family History of OCD\"]==\"No\"][\"Y-BOCS Score (Compulsions)\"]\n",
    "\n",
    "#perform the t-test\n",
    "t_stat,p_value=stats.ttest_ind(grp_with_history,grp_without_history)\n",
    "\n",
    "#print the results\n",
    "print(\"T-test Result:\")\n",
    "print(f\"T-statistic:{t_stat}\")\n",
    "print(f\"P-value:{p_value}\")\n",
    "\n",
    "#interpret the results\n",
    "alpha=0.05\n",
    "if p_value < alpha:\n",
    "    print(\"Reject the null hypothesis - there is a significant difference in Y-BOCS scores of Compulsions between the two groups.\")\n",
    "else:\n",
    "    print(\"Fail to reject the null hypothesis - There is no significance difference in the Y-BOCS score of Compulsions\")"
   ]
  },
  {
   "cell_type": "raw",
   "id": "6a492ea7-190e-4aba-b317-09e26e77567e",
   "metadata": {},
   "source": [
    "FINDINGS:\n",
    "    - The t-test result, suggest that having a family history of OCD does not significantly influence Y-BOCS score for either Obsessions or Compulsions within this study.\n",
    "\n",
    "Trends Observed:\n",
    "    - Although trends were noted, the differences in Y-BOCS Scores based on family history are not statistically significant that family history may not play a significant role in the severity of OCD symptoms in this population.   "
   ]
  },
  {
   "cell_type": "code",
   "execution_count": null,
   "id": "fc49b8a9-a1a7-452a-a2c1-b10e73ab4933",
   "metadata": {},
   "outputs": [],
   "source": []
  },
  {
   "cell_type": "raw",
   "id": "d452b1fa-679b-46cb-ac78-68a0bb6e16aa",
   "metadata": {},
   "source": [
    "                        Variation of Y-BOCS Score regarding 'Diagnosed' and 'Not Diagnised'"
   ]
  },
  {
   "cell_type": "code",
   "execution_count": null,
   "id": "e04ea543-4fe5-4cd7-96ac-ad2f0a4d3c71",
   "metadata": {},
   "outputs": [],
   "source": [
    "#Grouping the dataset by Previous Diagnoses\n",
    "previous_diagnoses=df_patient.groupby(\"Previous Diagnoses\").agg(\n",
    "    Y_BOCS_Score_Obsession=(\"Y-BOCS Score (Obsessions)\",\"mean\"),\n",
    "    Y_BOCS_Score_Compulsion=(\"Y-BOCS Score (Compulsions)\",\"mean\")\n",
    ").reset_index()\n",
    "\n",
    "#Creating a dataframe to previous diagnosis\n",
    "df_previous_diagnoses=pd.DataFrame(previous_diagnoses)\n",
    "\n",
    "#Creating a sub plot\n",
    "fig,axs=plt.subplots(1,2,figsize=(12,5))\n",
    "\n",
    "\n",
    "# Define unique diagnoses and corresponding colors\n",
    "diagnoses = df_previous_diagnoses[\"Previous Diagnoses\"].unique()\n",
    "colors = sns.color_palette(\"Set2\", n_colors=len(diagnoses))\n",
    "\n",
    "#Creating Plot for Y-BOCS Score for Obsession\n",
    "sns.barplot(data=df_previous_diagnoses, x=\"Previous Diagnoses\",y=\"Y_BOCS_Score_Obsession\", palette=colors,hue=\"Previous Diagnoses\",ax=axs[0])\n",
    "axs[0].set_title(\"Variation of Y-BOCS Score (Obsessions) \\nby Previous Diagnoses\")\n",
    "axs[0].set_xlabel(\"Previous Diagnoses\")\n",
    "axs[0].set_ylabel(\"Y-BOCS Score (Obsessions)\")\n",
    "axs[0].tick_params(axis='x',rotation=90)\n",
    "\n",
    "#Add legend to Plot\n",
    "handles = [plt.Rectangle((0, 0), 1, 1, color=color) for color in colors]\n",
    "axs[0].legend(handles, diagnoses, title=\"Previous Diagnoses\", bbox_to_anchor=(1.05, 1), loc='upper left')\n",
    "\n",
    "#Creating Plot for Y-BOCS Score for Compulsion\n",
    "sns.barplot(data=df_previous_diagnoses, x=\"Previous Diagnoses\",y=\"Y_BOCS_Score_Compulsion\", palette=colors,hue=\"Previous Diagnoses\",ax=axs[1],legend=False)\n",
    "axs[1].set_title(\"Variation of Y-BOCS Score (Compulsions) \\nby Previous Diagnoses\")\n",
    "axs[1].set_xlabel(\"Previous Diagnoses\")\n",
    "axs[1].set_ylabel(\"Y-BOCS Score (Compulsions)\")\n",
    "axs[1].tick_params(axis='x',rotation=90)\n",
    "\n",
    "\n",
    "plt.tight_layout()\n",
    "plt.show()"
   ]
  },
  {
   "cell_type": "raw",
   "id": "482d3f52-74e5-4cc2-8c7f-9f535e9034c8",
   "metadata": {},
   "source": [
    "FINDINGS:\n",
    "    -The Avearage Y-BOCS Score (Obsession) is highest in 'GAD' and other 'MDD' followed by 'PTSD' and 'Panic Disorder' along with indivduals without a diagnosis.\n",
    "    - The Avearage Y-BOCS Score (Compulsion) is highest in 'Panic Disorder' folloed by GAD then by MDD, PTSD and those indivduals without dignosed."
   ]
  },
  {
   "cell_type": "code",
   "execution_count": null,
   "id": "6edfda67-e5a7-49ee-8c22-826bfa3e0134",
   "metadata": {},
   "outputs": [],
   "source": [
    "#Splitting data into two groups based family History for Y-BOCS Score (Obsessions) \n",
    "grp_with_history=df_patient[df_patient[\"Previous Diagnosis Missing\"]==0][\"Y-BOCS Score (Obsessions)\"]\n",
    "grp_without_history=df_patient[df_patient[\"Previous Diagnosis Missing\"]==1][\"Y-BOCS Score (Obsessions)\"]\n",
    "\n",
    "#perform the t-test\n",
    "t_stat,p_value=stats.ttest_ind(grp_with_history,grp_without_history)\n",
    "\n",
    "#print the results\n",
    "print(\"T-test Result:\")\n",
    "print(f\"T-statistic:{t_stat}\")\n",
    "print(f\"P-value:{p_value}\")\n",
    "\n",
    "#interpret the results\n",
    "alpha=0.05\n",
    "if p_value < alpha:\n",
    "    print(\"Reject the null hypothesis - there is a significant difference in Y-BOCS scores of Obsessions between the two groups.\")\n",
    "else:\n",
    "    print(\"Fail to reject the null hypothesis - There is no significance difference in the Y-BOCS score of Obsessions\")"
   ]
  },
  {
   "cell_type": "code",
   "execution_count": null,
   "id": "922d5caa-daba-47e3-9d55-2ff6365e1679",
   "metadata": {},
   "outputs": [],
   "source": [
    "#Splitting data into two groups based family History for Y-BOCS Score (Compulsions) \n",
    "grp_with_history=df_patient[df_patient[\"Previous Diagnosis Missing\"]==0][\"Y-BOCS Score (Compulsions)\"]\n",
    "grp_without_history=df_patient[df_patient[\"Previous Diagnosis Missing\"]==1][\"Y-BOCS Score (Compulsions)\"]\n",
    "\n",
    "#perform the t-test\n",
    "t_stat,p_value=stats.ttest_ind(grp_with_history,grp_without_history)\n",
    "\n",
    "#print the results\n",
    "print(\"T-test Result:\")\n",
    "print(f\"T-statistic:{t_stat}\")\n",
    "print(f\"P-value:{p_value}\")\n",
    "\n",
    "#interpret the results\n",
    "alpha=0.05\n",
    "if p_value < alpha:\n",
    "    print(\"Reject the null hypothesis - there is a significant difference in Y-BOCS scores of Compulsions between the two groups.\")\n",
    "else:\n",
    "    print(\"Fail to reject the null hypothesis - There is no significance difference in the Y-BOCS score of Compulsions\")"
   ]
  },
  {
   "cell_type": "raw",
   "id": "5e6c4356-0552-4a14-a62a-09923fa0e1a9",
   "metadata": {},
   "source": [
    "FINDINGS:\n",
    "    - The t-test result, suggest that presence of Previous Diagnoses of OCD does not significantly influence Y-BOCS score for either Obsessions or Compulsions within this study.\n",
    "\n",
    "Trends Observed:\n",
    "    - Although trends were noted, the differences in Y-BOCS Scores based on Previous Diagnoses are not statistically significant that Previous Diagnoses may not play a significant role in the severity of OCD symptoms in this population.   "
   ]
  },
  {
   "cell_type": "code",
   "execution_count": null,
   "id": "d993099d-346c-4038-8ad4-274eaec0964f",
   "metadata": {},
   "outputs": [],
   "source": [
    "df_patient.head()"
   ]
  },
  {
   "cell_type": "code",
   "execution_count": null,
   "id": "ba8c64d9-ac81-44fe-8cf8-f26b80e54d90",
   "metadata": {},
   "outputs": [],
   "source": []
  },
  {
   "cell_type": "raw",
   "id": "8f037c1a-1123-461b-8b73-9b1ded50ae61",
   "metadata": {},
   "source": [
    "                        Variation of Y-BOCS Score by Obsessions ans Compulsions Type"
   ]
  },
  {
   "cell_type": "code",
   "execution_count": null,
   "id": "a1bad1c1-4fae-432d-9fb0-29ae3f356877",
   "metadata": {},
   "outputs": [],
   "source": [
    "#Group the Obsession Type for finding Y-BOCS Score mean\n",
    "Obs_type=df_patient.groupby(\"Obsession Type\").agg(\n",
    "    Y_BOCS_Score_Obs=(\"Y-BOCS Score (Obsessions)\",\"mean\")\n",
    ").reset_index()\n",
    "\n",
    "#Group the Compulsion Type for finding Y-BOCS Score mean\n",
    "Com_type=df_patient.groupby(\"Compulsion Type\").agg(\n",
    "    Y_BOCS_Score_Com=(\"Y-BOCS Score (Compulsions)\",\"mean\")\n",
    ").reset_index()\n",
    "\n",
    "#Create a subplot\n",
    "fig,axs=plt.subplots(1,2,figsize=(12,4))\n",
    "\n",
    "#Plot box graph for the Obsession Y-BOCS Score.\n",
    "sns.barplot(data=Obs_type, y=\"Obsession Type\",x=\"Y_BOCS_Score_Obs\",palette='Set1',hue=\"Obsession Type\",ax=axs[0])\n",
    "axs[0].set_title(\"Variation of Y-BOCS Score by Obsession Types\\n\")\n",
    "axs[0].set_xlabel(\"Mean Y-BOCS Score\")\n",
    "\n",
    "#Plot box graph for the Compulsion Y-BOCS Score.\n",
    "sns.barplot(data=Com_type, y=\"Compulsion Type\",x=\"Y_BOCS_Score_Com\",palette='Set1',hue=\"Compulsion Type\",ax=axs[1])\n",
    "axs[1].set_title(\"Variation of Y-BOCS Score by Compulsion Types\\n\")\n",
    "axs[1].set_xlabel(\"Mean Y-BOCS Score\")\n",
    "\n",
    "plt.tight_layout()\n",
    "plt.show()\n"
   ]
  },
  {
   "cell_type": "raw",
   "id": "bce1a9e5-165f-42cf-87cf-8a944f73c924",
   "metadata": {},
   "source": [
    "FINDINGS:\n",
    "    - The analysis indicates theat individuals with Hoarding tendencies exhibit the Highest mean Y-BOCS Score for Obsesssion, followed by those with Harm-related Obsession, which points to significant concerns about potentials harm to onceself or others.\n",
    "    - For compulsions, the most severe symptoms are observed in Praying, reflecting a focus on religious or personal rituals, followed losely by the organization annd symmetry."
   ]
  },
  {
   "cell_type": "raw",
   "id": "deaf8d05-22b1-4665-91a4-db262a4f731c",
   "metadata": {},
   "source": [
    "            Statistical Analysis to find the Variation of Y-BOCS among Obsession and Compulsion Types"
   ]
  },
  {
   "cell_type": "code",
   "execution_count": null,
   "id": "d9f2121e-318d-43e3-b5dc-4f8bcbfdc71f",
   "metadata": {},
   "outputs": [],
   "source": [
    "#perform the ANOVA for Obsession Score\n",
    "print(\"Result of ANOVA Test for Obsession Score:\\n\")\n",
    "model_obs=ols('Q(\"Y-BOCS Score (Obsessions)\") ~ Q(\"Obsession Type\")', data=df_patient).fit()\n",
    "annova_table_obs=sm.stats.anova_lm(model_obs,typ=2)\n",
    "print(annova_table_obs,\"\\n\\n\\n\")\n",
    "\n",
    "#Perform the ANOVA for Compulsion Score\n",
    "print(\"Result of ANOVA Test for Compulsion Score:\\n\")\n",
    "model_com=ols('Q(\"Y-BOCS Score (Compulsions)\") ~ Q(\"Compulsion Type\")', data=df_patient).fit()\n",
    "annova_table_com=sm.stats.anova_lm(model_com,typ=2)\n",
    "print(annova_table_com)"
   ]
  },
  {
   "cell_type": "raw",
   "id": "6e1683b6-6dec-4eeb-af11-c4ee3188604d",
   "metadata": {},
   "source": [
    "FINDINGS:\n",
    "    -The p-Value (0.3136) is greater than the significance level (0.05). This indicates that there is not enough evidence to reject the null hypothesis. Therefore, we conclude that different Obsession Types do not significantly affect the Obsession Score.\n",
    "    - The p-value (0.0511) is near to the 0.05 signficance level, indicating borderline significance in the mean of compulsion scores across compulsion types.\n",
    "    - Post-hoc tests are effective to identify Specific group differences, "
   ]
  },
  {
   "cell_type": "code",
   "execution_count": null,
   "id": "743d0886-1ce9-47ed-b35a-e6d1a31051dc",
   "metadata": {},
   "outputs": [],
   "source": [
    "#Performing Post Hoc Testing\n",
    "\n",
    "#For Compulsion Score\n",
    "print(\"\\nResult of Post Hoc Testing for Compulsion Score:\\n\")\n",
    "tukey_results_com = pairwise_tukeyhsd(endog=df_patient['Y-BOCS Score (Compulsions)'], groups=df_patient['Compulsion Type'], alpha=0.05)\n",
    "print(tukey_results_com)"
   ]
  },
  {
   "cell_type": "raw",
   "id": "16f7bd63-1ff3-4323-86c7-a97875e37459",
   "metadata": {},
   "source": [
    "CONCLUSION:\n",
    "    - The Tukey HSD post-hoc analysis revealed a significant difference in compulsion score between the 'Checking' and 'Praying' group scoring higher. \n",
    "    - No meaningful differences among the other groups (Counting, Ordering and Washing)\n",
    "    - These findings highlights the uniques influence of the 'Praying' compulsion type and further analysis."
   ]
  },
  {
   "cell_type": "code",
   "execution_count": null,
   "id": "953b5fea-22f2-418a-914a-2fca6e4336ac",
   "metadata": {},
   "outputs": [],
   "source": []
  },
  {
   "cell_type": "markdown",
   "id": "e1082dc0-ceca-4b5f-8926-6b0a2e5c2607",
   "metadata": {},
   "source": [
    "                                    CORRELATION ANALYSIS OF DIFFERENT CLINICAL DATA"
   ]
  },
  {
   "cell_type": "code",
   "execution_count": null,
   "id": "90f3f7d6-4b3a-49d9-a7e4-1882efa0f294",
   "metadata": {},
   "outputs": [],
   "source": [
    "#Convert Categorical Variable to binary\n",
    "df_patient['Anxiety Diagnosis binary']=df_patient[\"Anxiety Diagnosis\"].apply(lambda x: 1 if x=='Yes' else 0)\n",
    "df_patient['Depression Diagnosis binary']=df_patient[\"Depression Diagnosis\"].apply(lambda x: 1 if x=='Yes' else 0)\n",
    "\n",
    "#Selecting Relavant columns for analysis\n",
    "relavant_columns=[\n",
    "    'Y-BOCS Score (Compulsions)',\n",
    "    'Y-BOCS Score (Obsessions)',\n",
    "    'Anxiety Diagnosis binary',\n",
    "    'Depression Diagnosis binary',\n",
    "    'Medications', #Categorical Data\n",
    "    'Compulsion Type', #Categorical Data\n",
    "    'Obsession Type', #Categorical Data\n",
    "    'Previous Diagnoses' #Categorical Data\n",
    "]\n",
    "\n",
    "#Create a new DataFrame with relavant columns\n",
    "df_relavant=df_patient[relavant_columns]\n",
    "\n",
    "#One-hot encoding on the relavant Categorical data columns to convert it to numerical format\n",
    "df_relavant=pd.get_dummies(df_relavant,columns=[\"Medications\",\"Compulsion Type\",\"Obsession Type\",\"Previous Diagnoses\"])\n",
    "\n",
    "\n",
    "#Calculate Pearson correlation coefficients\n",
    "corr=df_relavant.corr(method='spearman')\n",
    "\n",
    "#Filter the correlation matrix for values >0.03 and <-0.03\n",
    "mask=(corr>0.05) | (corr<-0.05)\n",
    "filtered_corr= corr[mask]\n",
    "\n",
    "#Plot the heatmap for the filtered correlation matrix\n",
    "plt.figure(figsize=(20,14))\n",
    "sns.heatmap(filtered_corr, annot=True, fmt='.3f', cmap='coolwarm', square=True, mask=filtered_corr.isnull())\n",
    "\n",
    "#sns.heatmap(corr,annot=True,fmt='.2f',cmap='coolwarm',square=True)\n",
    "plt.title(\"Correlation Heatmap of Clinical Factors and Compulsion Scores\\n\")\n",
    "plt.show()"
   ]
  },
  {
   "cell_type": "raw",
   "id": "6b02a25b-d4a8-4e01-92af-9ea778709910",
   "metadata": {},
   "source": [
    "CORRELATION ANALYSIS:\n",
    "    1. Y-BOCS Scores:\n",
    "        - The Y-BOCS compulsion Score shows 'Weak Negative' (-0.071) with Checking Compulsions, suggests indivisuals who engage in checking behaviours report lower compulsion severity of Compulsion overall.\n",
    "        - The lack of correlation between Y-BOCS Obsession Score and other Clinical data indicats Obsession severity may be influenced by a wider array of factors.This observation is reasonable given the complex nature of OCD.\n",
    "\n",
    "    2. Influence of Medications:\n",
    "        - 'Benzodianzepines': \n",
    "            o  The 'Strong Negative' correlation of  'Benzodiazepineth' with both SNRIs (-0.591) and SSRIs (-0.570) indicates that patients who are on Benzodiazepines less likely take other these antidepressant simultaneously.\n",
    "            o The 'Weak Negative' correlation(-0.051) between 'Benzodiazepine' and patient diagnosed with Depression, suggest a slight tendency for indivisuals with depression use it less frequently.\n",
    "        - 'SSRI:\n",
    "            o The 'Moderate Negative' correlation (-0.320) between SNRI and SSRI suggests some level of co-occurence in their use, which is important to clinnicians to consider when prescribing treatments.\n",
    "            o The 'Weak Negative' correlation with compulsions (-0.046), implies that SSRIs might have a minor impact on reducing compulsion severity.\n",
    "        \n",
    "    3. Compulsion Types:\n",
    "        - The significant 'Negative' (-0.23 to -0.26) between different compulsion types suggest that individual who exhibit one type of compulsion are less likely exhibit other type, which may indicate a tendency for specific patterns of compulsive behaviours.This finding shows heterogeity of OCD symptoms.\n",
    "        - Checking Compulsions: 'Weak Negative' correlation reinforce the idea that those behaviour could be correlate with overall compulsion severity, indicateing behaviours  variance in OCD presentaions.\n",
    "        - The 'Weak Negative' (-0.059) correlation between counting compulsion and contamination obsessions along with symmetry Obsessions (0.055) suggests complex interrelations between different OCD symptoms that merit further exploraton.\n",
    "\n",
    "    4. Obsessions Type:\n",
    "        - Similar to Compulsion Types, the significant 'Negative' (-0.24 to -0.27) Correlation among Obsession Type may preclude the presence of another, reflecting the diverse manifestations of OCD. \n",
    "\n",
    "    5. Previous Diagnosis:\n",
    "        - The 'Weak Negative' (-0.087) corelation observed between Major Depression Disorder (MDD) and patients diagnosed with depression, suggest that two may be diagnosed indepently, indicating a need for clearer diagnostic criteria and deeper understanding of diverse depression presentations.\n",
    "        -  The significant 'Negative' (-0.25 to -0.27) Correlation among Previous Diagnosis (GADD,MDD,PTSD and Panic Attack) indicates that individual diagnosed with one condition are less likely to have been diagosed with another.This correlation can be interpreted as a suggestion of distict diagnostic pathways or presentation, though it may also reflect challeges in the diagnoses that overlap in symptoms."
   ]
  },
  {
   "cell_type": "code",
   "execution_count": null,
   "id": "8332c9e7-5503-49c3-b5ae-88d85de4aa3d",
   "metadata": {},
   "outputs": [],
   "source": []
  },
  {
   "cell_type": "code",
   "execution_count": null,
   "id": "6ab2a047-ea27-4a5e-8483-302bf0fbd01f",
   "metadata": {},
   "outputs": [],
   "source": []
  },
  {
   "cell_type": "raw",
   "id": "9965eec7-1859-44cc-bd71-fc12885a9c1d",
   "metadata": {},
   "source": [
    "KEY FINDINGS AND THEIR SIGNIFICANCE:\n",
    "\n",
    "1. Prevalence of Symptoms:\n",
    "    - Y-BOCS Scores indicate that the average scores for obsessions (20.1) and compulsions (19.6) show significant levels of distress in OCD patients. The high standard deviation (11.78) suggests considerable variability among individuals, highlighting the need for tailored treatment plans.\n",
    "    - Significance: This variability is cruicial for clinicians as it emphasized treatment strategies. It shows that common treatment protocols may not be effetive for all patients.\n",
    "\n",
    "2. Correlation Among Variables:\n",
    "    - The \"negative correlations\" observed between types of compulsions imply that individuals exhibiting one type of symtoms are less likely to display another.For instance, the significant negative correlation among compulsion types (-0.23 to -0.27) and obsession types (-0.24 to -0.27) indicates distict symptoms presentations within OCD.\n",
    "    - Significance: Understanding these patterns can help in refining treatment approaches by targeting specific symptoms, which could improve treatment efficacy.\n",
    "\n",
    "3. Influence of Medications:\n",
    "    - The \"strong negative correlation\" between Benzodiazepines and SNRIs/SSRIs indicates that patients taking benzodiazepines are less likely to be on these antidepressants simultaneously. This could that clinicians need to navigate thoughtfully.\n",
    "    - Significance: These findings can guide prescribing practices and highlight areas where further education regarding medication management is needed.\n",
    "\n",
    "4. Demographic Insights:\n",
    "    - There is relatively balanced gender representation among OCD patients, and differences in Y-BOCS scores with age and gender suggest variations in symptom severity. For instance, older women reported higher obsession severity.\n",
    "    - Significance:This findings underlines the necessity for age and gender specific therapeutic strategies, recognizing how demographic factors can influence symptoms expression.\n",
    "\n",
    "5. Previous Diagnoses:\n",
    "    - The significant negative correlations among previous diagnoses (GAD,MDD,PTSD) suggest that having one diagnosis could preclude the occurence of another.\n",
    "    - Significance: This calls for clear diagnostic criteria and an understanding that comorbidity might not be as common as preceived. It helps in refining assessment protocols.\n",
    "\n",
    "6. Family History:\n",
    "    - Patients with a family history of OCD show higher mean Y-BOCS scores for obsessions, although the statistical significance is borderline.\n",
    "    - Significant : This points towards potential genetic or environmental factors influencing OCD severity, which should be factored into clinical assessments."
   ]
  },
  {
   "cell_type": "raw",
   "id": "3a8434c9-98ad-4824-9b87-8e5724f04548",
   "metadata": {},
   "source": [
    "RECOMMENDATIONS:\n",
    "    - Personalized Treatment Plans:\n",
    "        o Finding: High variability in Y-BOCS scores indicateds significant differences in symptoms severity among patients.\n",
    "        o Recommandation: Clinicians should adopt individualized treatment strategies tailored to specific symptoms (obsessions or compulsions) rather than solely on standardised protocols.\n",
    "    - Refined Diagnosis Framework:\n",
    "        o Finding: Negative correlations among previous diagnoses (eg GAD,MDD,PTSD) suggest comorbidity may be less common than preceived.\n",
    "        o Recommandation: Diagnostic criteria should be updated to account for these findings, ensuring clearer differentiation between overlapping disorders.\n",
    "    - Demographical Special Strategies:\n",
    "        o Findings: Age and gender differences influence OCD symptoms severity, with older women showing higher obsession scores.\n",
    "        o Recommandation: Treatment plans should consider demographic factors, incorporating age and gender specific therapeutic strategies to address variation in symptoms presentation.\n",
    "    - Medication Management:\n",
    "        o Finding: A strong negative correlation between Benzodiansepines and SNRs/SSRIs highlights distict prescribing trends.\n",
    "        o Recommandation: Provide clinicians with updated guidelines to navigate medication combinations more effectively and ensure optimal treatment outcoms.\n",
    "    "
   ]
  },
  {
   "cell_type": "raw",
   "id": "959a5088-68ef-4dc1-8bca-79028abe40b8",
   "metadata": {},
   "source": [
    "LIMITATIONS: \n",
    "    - Small Sample Size: \n",
    "        The dataset of 1500 patients limits the ability to generalize findings across diverse populations and accurately represent the full spectrum of OCD symptoms and treatment responses.\n",
    "    - Lack of Longitudinal and SOcioeconomic Data:\n",
    "        The absence of long term and socioeconomic data restricts insights into symptoms progression, treatment outcomes, and disparities in healthcare access."
   ]
  }
 ],
 "metadata": {
  "kernelspec": {
   "display_name": "Python 3 (ipykernel)",
   "language": "python",
   "name": "python3"
  },
  "language_info": {
   "codemirror_mode": {
    "name": "ipython",
    "version": 3
   },
   "file_extension": ".py",
   "mimetype": "text/x-python",
   "name": "python",
   "nbconvert_exporter": "python",
   "pygments_lexer": "ipython3",
   "version": "3.12.4"
  }
 },
 "nbformat": 4,
 "nbformat_minor": 5
}
